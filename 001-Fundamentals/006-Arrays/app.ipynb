{
 "cells": [
  {
   "cell_type": "markdown",
   "metadata": {},
   "source": [
    "# Arrays\n",
    "\n",
    "In JavaScript, arrays are used to store multiple values in a single variable."
   ]
  },
  {
   "cell_type": "markdown",
   "metadata": {},
   "source": [
    "# Adding Elements"
   ]
  },
  {
   "cell_type": "code",
   "execution_count": 7,
   "metadata": {},
   "outputs": [
    {
     "name": "stdout",
     "output_type": "stream",
     "text": [
      "3\n",
      "4\n",
      "[]\n",
      "[ 2, 3, 4, 5, 6 ]\n"
     ]
    }
   ],
   "source": [
    "const numbers = [3, 5];\n",
    "\n",
    "// Add at the end\n",
    "console.log(numbers.push(6)); // numbers is now [3, 5, 6]\n",
    "\n",
    "// Add at the beginning\n",
    "console.log(numbers.unshift(2)); // numbers is now [2, 3, 5, 6]\n",
    "\n",
    "// Insert at specific index\n",
    "console.log(numbers.splice(2, 0, 4)); // Insert 4 at index 2 (before 5), numbers becomes [2, 3, 4, 5, 6]\n",
    "console.log(numbers); // Output: [2, 3, 4, 5, 6]\n",
    "\n"
   ]
  },
  {
   "cell_type": "markdown",
   "metadata": {},
   "source": [
    "# Finding Elements (Primitive Types)"
   ]
  },
  {
   "cell_type": "code",
   "execution_count": 3,
   "metadata": {},
   "outputs": [
    {
     "name": "stdout",
     "output_type": "stream",
     "text": [
      "2\n",
      "3\n",
      "-1\n",
      "5\n"
     ]
    }
   ],
   "source": [
    "const numbers = [2, 3, 4, 5, 6, 4, 5];\n",
    "\n",
    "console.log(numbers.indexOf(4)); // Returns 2, the index of 4 in the array\n",
    "\n",
    "console.log(numbers.indexOf(5, 3)); // Returns 3, the index of the first occurrence of 5 after index 3\n",
    "\n",
    "console.log(numbers.indexOf(7)); // Returns -1, since 7 is not in the array\n",
    "\n",
    "console.log(numbers.lastIndexOf(4)); // Returns 5, the last index of 4 in the array"
   ]
  },
  {
   "cell_type": "code",
   "execution_count": 4,
   "metadata": {},
   "outputs": [
    {
     "name": "stdout",
     "output_type": "stream",
     "text": [
      "true\n",
      "true\n"
     ]
    }
   ],
   "source": [
    "const numbers = [2, 3, 4, 5, 6];\n",
    "\n",
    "// Check if an element exists\n",
    "// Old method\n",
    "console.log(numbers.indexOf(4) !== -1); // true, 4 exists in the array\n",
    "\n",
    "\n",
    "// Modern method\n",
    "console.log(numbers.includes(4)); // true, 4 exists in the array\n"
   ]
  },
  {
   "cell_type": "markdown",
   "metadata": {},
   "source": [
    "# Finding elemenst (Reference Types)\n",
    "\n"
   ]
  },
  {
   "cell_type": "code",
   "execution_count": null,
   "metadata": {},
   "outputs": [
    {
     "name": "stdout",
     "output_type": "stream",
     "text": [
      "false\n",
      "{ id: 1, name: \"a\" }\n",
      "{ id: 1, name: \"a\" }\n"
     ]
    }
   ],
   "source": [
    "const courses = [\n",
    "    {id : 1, name: 'a'},\n",
    "    {id : 2, name: 'b'},\n",
    "]\n",
    "\n",
    "// Include method - not works\n",
    "console.log(courses.includes({id : 1, name: 'a'})); // false, because it's a different object reference\n",
    "\n",
    "// Find \n",
    "console.log(courses.find(function(course) {\n",
    "    return course.name === 'a';\n",
    "}))"
   ]
  },
  {
   "cell_type": "markdown",
   "metadata": {},
   "source": [
    "# Arrow Function"
   ]
  },
  {
   "cell_type": "markdown",
   "metadata": {},
   "source": [
    "In ES6, arrow functions provide a shorter and cleaner way to write functions. They are especially useful when passing functions as callbacks or arguments to other methods. Arrow functions improve code readability and reduce boilerplate syntax.\n",
    "\n",
    "```javascript\n",
    "// Traditional function\n",
    "[1, 2, 3].map(function(num) {\n",
    "  return num * 2;\n",
    "});\n",
    "\n",
    "// Arrow function\n",
    "[1, 2, 3].map(num => num * 2);\n",
    "```"
   ]
  },
  {
   "cell_type": "code",
   "execution_count": 1,
   "metadata": {},
   "outputs": [
    {
     "name": "stdout",
     "output_type": "stream",
     "text": [
      "{ id: 1, name: \"a\" }\n"
     ]
    }
   ],
   "source": [
    "const courses = [\n",
    "    {id : 1, name: 'a'},\n",
    "    {id : 2, name: 'b'},\n",
    "]\n",
    "\n",
    "// Find - Arrow Function\n",
    "console.log(courses.find(course => course.id === 1)); // {id: 1, name: 'a'}, finds the course with id 1`"
   ]
  },
  {
   "cell_type": "markdown",
   "metadata": {},
   "source": [
    "# Removing Elements"
   ]
  },
  {
   "cell_type": "code",
   "execution_count": 3,
   "metadata": {},
   "outputs": [
    {
     "name": "stdout",
     "output_type": "stream",
     "text": [
      "5\n",
      "[ 1, 2, 3, 4 ]\n",
      "-----\n",
      "1\n",
      "[ 2, 3, 4 ]\n",
      "-----\n",
      "[ 3 ]\n",
      "[ 2, 4 ]\n"
     ]
    }
   ],
   "source": [
    "const numbers = [1, 2, 3, 4, 5];\n",
    "\n",
    "// Remove the last element\n",
    "const last = numbers.pop()\n",
    "console.log(last); // 5, the last element removed from the array\n",
    "console.log(numbers); // [1, 2, 3, 4], the array after removing the last element\n",
    "console.log(\"-----\")\n",
    "\n",
    "\n",
    "// Remove the first element\n",
    "const first = numbers.shift()\n",
    "console.log(first); // 1, the first element removed from the array\n",
    "console.log(numbers); // [2, 3, 4], the array after removing the first element\n",
    "console.log(\"-----\")\n",
    "\n",
    "\n",
    "// Remove an element at a specific index\n",
    "const index = 1; // index to remove\n",
    "const removed = numbers.splice(index, 1); // removes 1 element at index 1\n",
    "console.log(removed); // [3], the element that was removed\n",
    "console.log(numbers); // [2, 4], the array after removing the element at index 1"
   ]
  },
  {
   "cell_type": "markdown",
   "metadata": {},
   "source": [
    "# Emptying an Array"
   ]
  },
  {
   "cell_type": "code",
   "execution_count": 6,
   "metadata": {},
   "outputs": [
    {
     "name": "stdout",
     "output_type": "stream",
     "text": [
      "[]\n",
      "[]\n",
      "[]\n",
      "[]\n"
     ]
    }
   ],
   "source": [
    "let numbers_1 = [1, 2, 3, 4, 5];\n",
    "let numbers_2 = [1, 2, 3, 4, 5];\n",
    "let numbers_3 = [1, 2, 3, 4, 5];\n",
    "let numbers_4 = [1, 2, 3, 4, 5];\n",
    "\n",
    "// Solution 1\n",
    "numbers_1 = []\n",
    "console.log(numbers_1); \n",
    "\n",
    "// Solution 2\n",
    "numbers_2.length = 0;\n",
    "console.log(numbers_2); \n",
    "\n",
    "// Solution 3\n",
    "numbers_3.splice(0, numbers_3.length);\n",
    "console.log(numbers_3); \n",
    "\n",
    "// Solution 4\n",
    "while(numbers_4.length) {\n",
    "    numbers_4.pop();\n",
    "}\n",
    "console.log(numbers_4);"
   ]
  },
  {
   "cell_type": "markdown",
   "metadata": {},
   "source": [
    "# Combining and Slicing arrays"
   ]
  },
  {
   "cell_type": "code",
   "execution_count": null,
   "metadata": {},
   "outputs": [
    {
     "name": "stdout",
     "output_type": "stream",
     "text": [
      "[ 1, 2, 3, 4, 5, 6 ]\n",
      "[ 3, 4, 5 ]\n"
     ]
    }
   ],
   "source": [
    "let first = [1, 2, 3];\n",
    "let second = [4, 5, 6];\n",
    "\n",
    "// Concatenate arrays\n",
    "let combined = first.concat(second);\n",
    "console.log(combined); // [1, 2, 3, 4, 5, 6]\n",
    "\n",
    "// Slice Arrays\n",
    "let slice = combined.slice(2, 5); // Get elements from index 2 to 4\n",
    "console.log(slice); // [3, 4, 5]"
   ]
  },
  {
   "cell_type": "markdown",
   "metadata": {},
   "source": [
    "#### Note - Combining Arrays ( Difference between Primitive and Reference Types)\n",
    "\n",
    "```javascript\n",
    "let first = [1, 2, 3];\n",
    "let second = [4, 5, 6];\n",
    "\n",
    "let combined = first.concat(second);\n",
    "\n",
    "first[0] = 99;\n",
    "\n",
    "console.log(combined); // ➡️ [1, 2, 3, 4, 5, 6]\n",
    "```\n",
    "\n",
    "🔸 `combined` holds `copies` of primitive values.\n",
    "\n",
    "🔸 Changing `first[0]` doesn’t affect `combined[0]`.\n",
    "\n",
    "---------------------------------\n",
    "\n",
    "```javascript\n",
    "let first = [{ id: 1 }];\n",
    "let second = [4, 5, 6];\n",
    "\n",
    "let combined = first.concat(second);\n",
    "\n",
    "first[0].id = 99;\n",
    "\n",
    "console.log(combined); // ➡️ [{ id: 99 }, 4, 5, 6]\n",
    "```\n",
    "\n",
    "🔸 `first[0]` is an object: `{ id: 1 }` → this is a `reference type`.\n",
    "\n",
    "🔸 `.concat()` copies the `reference, not the actual object(value).`\n",
    "\n",
    "🔸 When you modify `first[0].id`, you're modifying the `original object`, which is also referenced inside `combined[0]`."
   ]
  },
  {
   "cell_type": "markdown",
   "metadata": {},
   "source": [
    "# Spread Operator\n",
    "\n",
    "The **spread operator** in JavaScript is written as `...` and is used to `\"spread\"` the elements of an **array** or **object** into individual elements."
   ]
  },
  {
   "cell_type": "code",
   "execution_count": 22,
   "metadata": {},
   "outputs": [
    {
     "name": "stdout",
     "output_type": "stream",
     "text": [
      "[ 1, 2, 3, 4, 5, 6 ]\n"
     ]
    }
   ],
   "source": [
    "let first = [1, 2, 3];\n",
    "let second = [4, 5, 6];\n",
    "\n",
    "// Spread operator to concatenate arrays\n",
    "let combined = [...first, ...second];\n",
    "console.log(combined); "
   ]
  },
  {
   "cell_type": "markdown",
   "metadata": {},
   "source": [
    "# Iterating an Array"
   ]
  },
  {
   "cell_type": "code",
   "execution_count": 25,
   "metadata": {},
   "outputs": [
    {
     "name": "stdout",
     "output_type": "stream",
     "text": [
      "1\n",
      "2\n",
      "3\n",
      "-----\n",
      "1\n",
      "2\n",
      "3\n",
      "-----\n",
      "0   1\n",
      "1   2\n",
      "2   3\n"
     ]
    }
   ],
   "source": [
    "const numbers = [1, 2, 3];\n",
    "\n",
    "// Iterate using for...of loop\n",
    "for(let number of numbers) {\n",
    "    console.log(number); \n",
    "}\n",
    "\n",
    "console.log(\"-----\");\n",
    "\n",
    "// Iterate using forEach method\n",
    "numbers.forEach(function(number) {\n",
    "    console.log(number); \n",
    "});\n",
    "\n",
    "console.log(\"-----\");\n",
    "\n",
    "// ForEach - Using arrow function \n",
    "numbers.forEach((number, index) => console.log(index , \" \", number)); "
   ]
  },
  {
   "cell_type": "markdown",
   "metadata": {},
   "source": [
    "# Joining Arrays"
   ]
  },
  {
   "cell_type": "code",
   "execution_count": 2,
   "metadata": {},
   "outputs": [
    {
     "name": "stdout",
     "output_type": "stream",
     "text": [
      "1, 2, 3\n",
      "[ \"This\", \"is\", \"a\", \"message\" ]\n",
      "This-is-a-message\n"
     ]
    }
   ],
   "source": [
    "const numbers = [1, 2, 3];\n",
    "\n",
    "const joined = numbers.join(', '); \n",
    "console.log(joined); \n",
    "\n",
    "\n",
    "// Split Method - Used for Strings, Not Arrays\n",
    "const message = \"This is a message\";\n",
    "const parts = message.split(' '); \n",
    "console.log(parts); \n",
    "\n",
    "\n",
    "const combined = parts.join('-');\n",
    "console.log(combined); "
   ]
  },
  {
   "cell_type": "markdown",
   "metadata": {},
   "source": [
    "# Sorting Arrays"
   ]
  },
  {
   "cell_type": "code",
   "execution_count": null,
   "metadata": {},
   "outputs": [
    {
     "name": "stdout",
     "output_type": "stream",
     "text": [
      "[ 1, 2, 3, 4, 5 ]\n",
      "[ 5, 4, 3, 2, 1 ]\n"
     ]
    }
   ],
   "source": [
    "const numbers = [3,4,1,2,5];\n",
    "\n",
    "// Sort the array in ascending order\n",
    "numbers.sort();\n",
    "console.log(numbers); \n",
    "\n",
    "\n",
    "// Reversing the array\n",
    "numbers.reverse();\n",
    "console.log(numbers); "
   ]
  },
  {
   "cell_type": "markdown",
   "metadata": {},
   "source": [
    "The sort() method is useful when we have primitive types (like numbers or strings) inside an array.\n",
    "\n",
    "However, if the array contains objects, we need to provide a custom compare function to tell JavaScript how to sort them."
   ]
  },
  {
   "cell_type": "code",
   "execution_count": 5,
   "metadata": {},
   "outputs": [
    {
     "name": "stdout",
     "output_type": "stream",
     "text": [
      "[ { id: 2, name: \"JavaScript\" }, { id: 1, name: \"Node Js\" } ]\n"
     ]
    }
   ],
   "source": [
    "const courses = [\n",
    "    {id : 1, name: 'Node Js'},\n",
    "    {id : 2, name: 'JavaScript'},\n",
    "]\n",
    "\n",
    "// Sort courses by name\n",
    "courses.sort((a, b) => {\n",
    "    const nameA = a.name.toLowerCase();\n",
    "    const nameB = b.name.toLowerCase();\n",
    "    if (nameA < nameB) return -1;\n",
    "    if (nameA > nameB) return 1;\n",
    "    return 0;\n",
    "});\n",
    "\n",
    "console.log(courses); "
   ]
  },
  {
   "cell_type": "markdown",
   "metadata": {},
   "source": [
    "# Testing the Elements of an Array"
   ]
  },
  {
   "cell_type": "code",
   "execution_count": 6,
   "metadata": {},
   "outputs": [
    {
     "name": "stdout",
     "output_type": "stream",
     "text": [
      "true\n",
      "true\n"
     ]
    }
   ],
   "source": [
    "const numbers = [1, 2, 3, 4, 5];\n",
    "\n",
    "// Check if all elements are greater than 0\n",
    "const allGreaterThanZero = numbers.every(number => number > 0);\n",
    "console.log(allGreaterThanZero); \n",
    "\n",
    "// Check if some elements are greater than 3\n",
    "const someGreaterThanThree = numbers.some(number => number > 3);\n",
    "console.log(someGreaterThanThree);"
   ]
  },
  {
   "cell_type": "markdown",
   "metadata": {},
   "source": [
    "# Filtering an Array"
   ]
  },
  {
   "cell_type": "code",
   "execution_count": 8,
   "metadata": {},
   "outputs": [
    {
     "name": "stdout",
     "output_type": "stream",
     "text": [
      "[ 1, 5, 7 ]\n",
      "[ 1, 5, 7 ]\n"
     ]
    }
   ],
   "source": [
    "const numbers = [1, -1, -4, 5, 7]\n",
    "\n",
    "// Filter out negative numbers\n",
    "const positiveNumbers = numbers.filter(number => number >= 0);\n",
    "console.log(positiveNumbers); \n",
    "\n",
    "// Traditional Function\n",
    "const result = numbers.filter(function(number) {\n",
    "    return number >= 0;\n",
    "});\n",
    "console.log(result);"
   ]
  },
  {
   "cell_type": "markdown",
   "metadata": {},
   "source": [
    "# Mapping an Array\n",
    "\n",
    "`.map()` creates a new array by applying a callback function to each element of the original array."
   ]
  },
  {
   "cell_type": "code",
   "execution_count": 12,
   "metadata": {},
   "outputs": [
    {
     "name": "stdout",
     "output_type": "stream",
     "text": [
      "[\n",
      "  \"<li> 1 </li>\",\n",
      "  \"<li> 2 </li>\",\n",
      "  \"<li> 3 </li>\",\n",
      "  \"<li> 4 </li>\",\n",
      "  \"<li> 5 </li>\"\n",
      "]\n"
     ]
    }
   ],
   "source": [
    "const numbers = [1, 2, 3, 4, 5];\n",
    "\n",
    "const items = numbers.map(n => '<li> ' + n + ' </li>'); \n",
    "console.log(items); \n",
    "\n"
   ]
  },
  {
   "cell_type": "code",
   "execution_count": 15,
   "metadata": {},
   "outputs": [
    {
     "name": "stdout",
     "output_type": "stream",
     "text": [
      "[\n",
      "  { value: 1 },\n",
      "  { value: 2 },\n",
      "  { value: 3 },\n",
      "  { value: 4 },\n",
      "  { value: 5 }\n",
      "]\n"
     ]
    }
   ],
   "source": [
    "const numbers = [1, 2, 3, 4, 5];\n",
    "\n",
    "// Map to create an array of objects\n",
    "const items = numbers.map(n => {\n",
    "    return { value: n };\n",
    "});\n",
    "\n",
    "console.log(items);"
   ]
  },
  {
   "cell_type": "code",
   "execution_count": 17,
   "metadata": {},
   "outputs": [
    {
     "name": "stdout",
     "output_type": "stream",
     "text": [
      "[ undefined, undefined, undefined, undefined, undefined ]\n"
     ]
    }
   ],
   "source": [
    "const numbers = [1, 2, 3, 4, 5];\n",
    "\n",
    "const items = numbers.map(n => {value : n});\n",
    "console.log(items); "
   ]
  },
  {
   "cell_type": "markdown",
   "metadata": {},
   "source": [
    "In this code, the arrow function returns `undefined` because JavaScript interprets the curly braces `{}` as the start of a function block, not as an object. To return an object directly from an arrow function, you need to wrap the object in parentheses. This tells JavaScript to treat the braces as an object literal rather than a code block."
   ]
  },
  {
   "cell_type": "code",
   "execution_count": 18,
   "metadata": {},
   "outputs": [
    {
     "name": "stdout",
     "output_type": "stream",
     "text": [
      "[\n",
      "  { value: 1 },\n",
      "  { value: 2 },\n",
      "  { value: 3 },\n",
      "  { value: 4 },\n",
      "  { value: 5 }\n",
      "]\n"
     ]
    }
   ],
   "source": [
    "const numbers = [1, 2, 3, 4, 5];\n",
    "\n",
    "const items = numbers.map(n => ({value : n}));\n",
    "console.log(items); "
   ]
  },
  {
   "cell_type": "markdown",
   "metadata": {},
   "source": [
    "# Reducing an Array"
   ]
  },
  {
   "cell_type": "code",
   "execution_count": 20,
   "metadata": {},
   "outputs": [
    {
     "name": "stdout",
     "output_type": "stream",
     "text": [
      "15\n"
     ]
    }
   ],
   "source": [
    "const numbers = [1, 2, 3, 4, 5];\n",
    "\n",
    "const sum = numbers.reduce((accumulator, currentValue) => {\n",
    "    return accumulator + currentValue;\n",
    "}, 0); // Initial value(accumulator) is 0\n",
    "\n",
    "console.log(sum); "
   ]
  },
  {
   "cell_type": "markdown",
   "metadata": {},
   "source": [
    "In a reducer function, if you provide an initial value, the accumulator will be set to that value.\n",
    "\n",
    "If you do not provide an initial value, then the first element of the array becomes the accumulator, and the second element becomes the current value when the reduction starts."
   ]
  },
  {
   "cell_type": "markdown",
   "metadata": {},
   "source": [
    "# Spread vs Rest Operator (My Topic)\n",
    "\n",
    "| Feature        | **Spread Operator**                      | **Rest Operator**                                      |\n",
    "|----------------|------------------------------------------|--------------------------------------------------------|\n",
    "| **Purpose**     | Spreads elements out                    | Collects multiple elements into one                    |\n",
    "| **Use case**    | Expanding arrays/objects                | Grouping function arguments or array elements          |\n",
    "| **Where used**  | Function calls, array/object literals   | Function parameters, array/object destructuring        |\n",
    "| **Example**     | `let arr = [...arr1, ...arr2];`         | `function sum(...nums) {}`    "
   ]
  },
  {
   "cell_type": "code",
   "execution_count": 25,
   "metadata": {},
   "outputs": [
    {
     "name": "stdout",
     "output_type": "stream",
     "text": [
      "[ 1, 2, 3, 4, 5 ]\n",
      "[ 1, 2, 3 ]\n",
      "---------------\n",
      "6\n"
     ]
    }
   ],
   "source": [
    "// Spread Operator\n",
    "\n",
    "const nums = [1, 2, 3];\n",
    "const newNums = [...nums, 4, 5]; \n",
    "console.log(newNums);\n",
    "console.log(nums); // Original array remains unchanged\n",
    "\n",
    "console.log(\"---------------\");\n",
    "\n",
    "// Rest Operator\n",
    "function add(...numbers) {\n",
    "    return numbers.reduce((a, b) => a + b);\n",
    "  }\n",
    "\n",
    "console.log(add(1, 2, 3)); // "
   ]
  }
 ],
 "metadata": {
  "kernelspec": {
   "display_name": "Deno",
   "language": "typescript",
   "name": "deno"
  },
  "language_info": {
   "codemirror_mode": "typescript",
   "file_extension": ".ts",
   "mimetype": "text/x.typescript",
   "name": "typescript",
   "nbconvert_exporter": "script",
   "pygments_lexer": "typescript",
   "version": "5.8.3"
  }
 },
 "nbformat": 4,
 "nbformat_minor": 2
}
