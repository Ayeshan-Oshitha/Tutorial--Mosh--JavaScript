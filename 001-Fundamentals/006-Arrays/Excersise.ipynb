{
 "cells": [
  {
   "cell_type": "markdown",
   "metadata": {},
   "source": [
    "### Excersise 1 - Array From Range"
   ]
  },
  {
   "cell_type": "code",
   "execution_count": 3,
   "metadata": {},
   "outputs": [
    {
     "name": "stdout",
     "output_type": "stream",
     "text": [
      "[\n",
      "  -10, -9, -8, -7,\n",
      "   -6, -5, -4\n",
      "]\n"
     ]
    }
   ],
   "source": [
    "function arrayFromRange(min, max){\n",
    "    const output = [];\n",
    "    for(let i = min; i<= max; i++){\n",
    "        output.push(i)\n",
    "    }\n",
    "    return output\n",
    "}\n",
    "\n",
    "const numbers = arrayFromRange(-10 , -4)\n",
    "\n",
    "console.log(numbers)"
   ]
  },
  {
   "cell_type": "markdown",
   "metadata": {},
   "source": [
    "### Excersise 2 - Includes"
   ]
  },
  {
   "cell_type": "code",
   "execution_count": 4,
   "metadata": {},
   "outputs": [
    {
     "name": "stdout",
     "output_type": "stream",
     "text": [
      "true\n"
     ]
    }
   ],
   "source": [
    "const numbers = [1, 2, 3, 4]\n",
    "\n",
    "function includes(array, searchElement){\n",
    "    for(let element of array){\n",
    "        if(element === searchElement) return true;\n",
    "    }\n",
    "    return false;\n",
    "}\n",
    "\n",
    "console.log(includes(numbers, 1)); "
   ]
  },
  {
   "cell_type": "markdown",
   "metadata": {},
   "source": [
    "### Excersise 3 - Except"
   ]
  },
  {
   "cell_type": "code",
   "execution_count": 6,
   "metadata": {},
   "outputs": [
    {
     "name": "stdout",
     "output_type": "stream",
     "text": [
      "[ 3, 4 ]\n"
     ]
    }
   ],
   "source": [
    "const numbers = [1, 2, 3, 4];\n",
    "\n",
    "function except(array, excluded){\n",
    "    const output = [];\n",
    "    for(let element of array){\n",
    "        if(!excluded.includes(element)){\n",
    "            output.push(element);\n",
    "        }\n",
    "    }\n",
    "    return output;\n",
    "}\n",
    "\n",
    "console.log(except(numbers, [1, 2])); "
   ]
  },
  {
   "cell_type": "markdown",
   "metadata": {},
   "source": [
    "### Excersise 4 - Moving an element"
   ]
  },
  {
   "cell_type": "code",
   "execution_count": 8,
   "metadata": {},
   "outputs": [
    {
     "name": "stdout",
     "output_type": "stream",
     "text": [
      "[ 1, 3, 4, 2 ]\n"
     ]
    }
   ],
   "source": [
    "const numbers = [1, 2, 3, 4]\n",
    "\n",
    "function move(array, index, offset){\n",
    "    const position = index + offset;\n",
    "    if(position >= array.length || position < 0){\n",
    "        console.error(\"Invalid Offset.\");\n",
    "        return;\n",
    "    }\n",
    "\n",
    "    const output = [...array];\n",
    "    const element = output.splice(index, 1)[0];\n",
    "    output.splice(position, 0, element);\n",
    "\n",
    "    return output;\n",
    "}\n",
    "\n",
    "console.log(move(numbers, 1, 2))"
   ]
  },
  {
   "cell_type": "markdown",
   "metadata": {},
   "source": [
    "### Excersise 5 - Count Occurences"
   ]
  },
  {
   "cell_type": "code",
   "execution_count": 12,
   "metadata": {},
   "outputs": [
    {
     "name": "stdout",
     "output_type": "stream",
     "text": [
      "0 1 3\n",
      "0 2 3\n",
      "0 3 3\n",
      "1 4 3\n",
      "1 1 3\n",
      "1 3 3\n",
      "2 1 3\n",
      "2\n"
     ]
    }
   ],
   "source": [
    "const numbers = [1, 2, 3, 4, 1, 3, 1];\n",
    "\n",
    "function countOccurrences(array, searchElement){\n",
    "    // let count = 0;\n",
    "    // for(let element of array){\n",
    "    //     if(element === searchElement){\n",
    "    //          count++;\n",
    "    //     }\n",
    "    // }\n",
    "    // return count;\n",
    "\n",
    "    return array.reduce((accumulator, current) => {\n",
    "        const occurrence = (current === searchElement) ? 1 : 0;\n",
    "        console.log(accumulator, current, searchElement);\n",
    "        return accumulator + occurrence;\n",
    "    }, 0);\n",
    "}\n",
    "\n",
    "console.log(countOccurrences(numbers, 3));"
   ]
  }
 ],
 "metadata": {
  "kernelspec": {
   "display_name": "Deno",
   "language": "typescript",
   "name": "deno"
  },
  "language_info": {
   "codemirror_mode": "typescript",
   "file_extension": ".ts",
   "mimetype": "text/x.typescript",
   "name": "typescript",
   "nbconvert_exporter": "script",
   "pygments_lexer": "typescript",
   "version": "5.8.3"
  }
 },
 "nbformat": 4,
 "nbformat_minor": 2
}
