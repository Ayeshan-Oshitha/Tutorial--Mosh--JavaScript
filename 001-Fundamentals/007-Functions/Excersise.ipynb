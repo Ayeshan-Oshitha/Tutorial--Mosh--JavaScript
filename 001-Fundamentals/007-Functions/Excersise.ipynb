{
 "cells": [
  {
   "cell_type": "markdown",
   "metadata": {},
   "source": [
    "### Excersise 01 - Sum of Arguments"
   ]
  },
  {
   "cell_type": "code",
   "execution_count": null,
   "metadata": {},
   "outputs": [
    {
     "name": "stdout",
     "output_type": "stream",
     "text": [
      "6\n"
     ]
    }
   ],
   "source": [
    "function sum(...items){\n",
    "\n",
    "    // If the input is a single array, we flatten it to a single level.\n",
    "    if (items.length === 1 && Array.isArray(items[0])) {\n",
    "        items = [...items[0]];\n",
    "    }\n",
    "\n",
    "    return args.reduce((a,b) => a + b ); \n",
    "}\n",
    "\n",
    "console.log(sum([1, 2, 3])); // 6"
   ]
  },
  {
   "cell_type": "markdown",
   "metadata": {},
   "source": [
    "### Excersise 02 - Area of Circle"
   ]
  },
  {
   "cell_type": "code",
   "execution_count": 8,
   "metadata": {},
   "outputs": [
    {
     "name": "stdout",
     "output_type": "stream",
     "text": [
      "3.141592653589793\n"
     ]
    }
   ],
   "source": [
    "const circle = {\n",
    "    radius: 1,\n",
    "    get area() {\n",
    "        return Math.PI * this.radius ** this.radius;\n",
    "    }\n",
    "}\n",
    "\n",
    "console.log(circle.area); "
   ]
  },
  {
   "cell_type": "markdown",
   "metadata": {},
   "source": [
    "# Excersise 03 - Error Handling"
   ]
  },
  {
   "cell_type": "code",
   "execution_count": 9,
   "metadata": {},
   "outputs": [
    {
     "name": "stderr",
     "output_type": "stream",
     "text": [
      "The first argument must be an array.\n"
     ]
    }
   ],
   "source": [
    "function countOccurences(array, searchElement) {\n",
    "\n",
    "    if (!Array.isArray(array)) {\n",
    "        throw new Error('The first argument must be an array.');\n",
    "    }\n",
    "\n",
    "    return array.reduce((count, current) => {\n",
    "        const occurences = (current === searchElement) ? 1 : 0;\n",
    "        return count + occurences;\n",
    "    }, 0);\n",
    "}\n",
    "\n",
    "\n",
    "try{\n",
    "    const numbers = [1, 2, 3, 4, 1, 2, 1];\n",
    "    const count = countOccurences(null, 1);\n",
    "    console.log(count); \n",
    "} catch (error) {\n",
    "    console.error(error.message); \n",
    "}"
   ]
  }
 ],
 "metadata": {
  "kernelspec": {
   "display_name": "Deno",
   "language": "typescript",
   "name": "deno"
  },
  "language_info": {
   "codemirror_mode": "typescript",
   "file_extension": ".ts",
   "mimetype": "text/x.typescript",
   "name": "typescript",
   "nbconvert_exporter": "script",
   "pygments_lexer": "typescript",
   "version": "5.8.3"
  }
 },
 "nbformat": 4,
 "nbformat_minor": 2
}
