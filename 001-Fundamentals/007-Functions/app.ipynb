{
 "cells": [
  {
   "cell_type": "markdown",
   "metadata": {},
   "source": [
    "# Function Declaration vs Expression"
   ]
  },
  {
   "cell_type": "code",
   "execution_count": null,
   "metadata": {},
   "outputs": [
    {
     "name": "stdout",
     "output_type": "stream",
     "text": [
      "Walking...\n",
      "Running...\n",
      "Jumping...\n",
      "Swimming...\n",
      "I am an IIFE!\n"
     ]
    }
   ],
   "source": [
    "// Function Expression\n",
    "function walk() {\n",
    "    console.log(\"Walking...\");\n",
    "}\n",
    "\n",
    "walk(); \n",
    "\n",
    "\n",
    "\n",
    "// Anonymous Function Declaration\n",
    "const run = function() {\n",
    "    console.log(\"Running...\");\n",
    "};\n",
    "\n",
    "run(); \n",
    "\n",
    "\n",
    "\n",
    "// Named Function Expression\n",
    "const jump = function jumpFunction() {\n",
    "    console.log(\"Jumping...\");\n",
    "};\n",
    "\n",
    "jump();  // The name jumpFunction can only be used inside the function itself, not outside, so you must call it using jump instead.\n",
    "\n",
    "\n",
    "\n",
    "// Arrow Function\n",
    "const swim = () => {\n",
    "    console.log(\"Swimming...\");\n",
    "};\n",
    "\n",
    "swim(); \n",
    "\n",
    "\n",
    "\n",
    "// Immediately Invoked Function Expression (IIFE)\n",
    "(function() {\n",
    "    console.log(\"I am an IIFE!\");\n",
    "})();"
   ]
  },
  {
   "cell_type": "markdown",
   "metadata": {},
   "source": [
    "# Hoisting"
   ]
  },
  {
   "cell_type": "code",
   "execution_count": 1,
   "metadata": {},
   "outputs": [
    {
     "name": "stdout",
     "output_type": "stream",
     "text": [
      "Walking...\n"
     ]
    },
    {
     "ename": "ReferenceError",
     "evalue": "run is not defined",
     "output_type": "error",
     "traceback": [
      "Stack trace:",
      "ReferenceError: run is not defined",
      "    at <anonymous>:7:1"
     ]
    }
   ],
   "source": [
    "// Function Declaration\n",
    "\n",
    "walk();\n",
    "\n",
    "function walk() {\n",
    "    console.log(\"Walking...\");\n",
    "}\n",
    "\n",
    "\n",
    "// Function Expression\n",
    "\n",
    "run(); \n",
    "\n",
    "const run = function() {\n",
    "    console.log(\"Running...\");\n",
    "};"
   ]
  },
  {
   "cell_type": "markdown",
   "metadata": {},
   "source": [
    "When we create a function using a **function declaration**, we can call it **even before it is written** in the code. But if we create the function using a **function expression**, we **can't** call it before it appears.\n",
    "\n",
    "This happens because with function declarations, JavaScript **moves the function to the top** of the code before running it. This is called `hoisting`."
   ]
  },
  {
   "cell_type": "markdown",
   "metadata": {},
   "source": [
    "# Arguments\n",
    "\n",
    "JavaScript is a dynamic programming language, so we can pass arguments of any type to a function."
   ]
  },
  {
   "cell_type": "code",
   "execution_count": 2,
   "metadata": {},
   "outputs": [
    {
     "name": "stdout",
     "output_type": "stream",
     "text": [
      "15\n",
      "NaN\n",
      "ab\n"
     ]
    }
   ],
   "source": [
    "function sum(a,b){\n",
    "    return a + b;\n",
    "}\n",
    "\n",
    "console.log(sum(5, 10)); // Outputs: 15\n",
    "console.log(sum(1))\n",
    "console.log(sum('a', 'b'))"
   ]
  },
  {
   "cell_type": "markdown",
   "metadata": {},
   "source": [
    "If we want to **pass a variable number of arguments** to a function, we can use the `arguments` **keyword**. This keyword refers to the `arguments` **object**, which holds all the values passed to the function."
   ]
  },
  {
   "cell_type": "code",
   "execution_count": null,
   "metadata": {},
   "outputs": [
    {
     "name": "stdout",
     "output_type": "stream",
     "text": [
      "Arguments : [Arguments] { \"0\": 5, \"1\": 10, \"2\": 15 }\n",
      "30\n",
      "----------------\n",
      "Arguments : [Arguments] { \"0\": 1, \"1\": 2, \"2\": 3, \"3\": 4, \"4\": 5 }\n",
      "15\n"
     ]
    }
   ],
   "source": [
    "function sum(){\n",
    "    console.log(\"Arguments :\" , arguments )\n",
    "    let total = 0;\n",
    "    for (let value of arguments){\n",
    "        total += value;\n",
    "    }\n",
    "    return total;\n",
    "}\n",
    "\n",
    "console.log(sum(5, 10, 15)); \n",
    "console.log(\"----------------\");\n",
    "console.log(sum(1, 2, 3, 4, 5)); "
   ]
  },
  {
   "cell_type": "markdown",
   "metadata": {},
   "source": [
    "# Rest Operator\n",
    "\n",
    "Instead of using the `arguments` keyword, **modern JavaScript** provides a better way to handle a variable number of arguments — it’s called the **rest operator**.\n",
    "\n",
    "The **rest operator** collects all the arguments passed to a function and puts them into an **array**.\n",
    "(In contrast, the `arguments` keyword creates an **array-like object**.)"
   ]
  },
  {
   "cell_type": "code",
   "execution_count": 12,
   "metadata": {},
   "outputs": [
    {
     "name": "stdout",
     "output_type": "stream",
     "text": [
      "Arguments : [ 5, 10, 15 ]\n",
      "30\n"
     ]
    }
   ],
   "source": [
    "function sum(...args){\n",
    "    console.log(\"Arguments :\", args);\n",
    "    return args.reduce((a, b) => a + b, 0);\n",
    "}\n",
    "\n",
    "console.log(sum(5, 10, 15)); "
   ]
  },
  {
   "cell_type": "markdown",
   "metadata": {},
   "source": [
    "**Note:** \n",
    "\n",
    "The rest operator must be the last parameter in a function's parameter list. You cannot add other parameters after the rest operator.\n",
    "\n"
   ]
  },
  {
   "cell_type": "code",
   "execution_count": 14,
   "metadata": {},
   "outputs": [
    {
     "ename": "SyntaxError",
     "evalue": "Rest parameter must be last formal parameter",
     "output_type": "error",
     "traceback": [
      "Stack trace:",
      "SyntaxError: Rest parameter must be last formal parameter"
     ]
    }
   ],
   "source": [
    "function sum(...args, num){\n",
    "    console.log(\"Arguments :\", args);\n",
    "    return args.reduce((a, b) => a + b, 0);\n",
    "}\n",
    "\n",
    "console.log(sum(5, 10, 15, 20)); "
   ]
  },
  {
   "cell_type": "markdown",
   "metadata": {},
   "source": [
    "# Default Parameters\n",
    "\n",
    "Starting from ES6, we can set default values for function parameters."
   ]
  },
  {
   "cell_type": "code",
   "execution_count": 15,
   "metadata": {},
   "outputs": [
    {
     "name": "stdout",
     "output_type": "stream",
     "text": [
      "1050.0000000000002\n"
     ]
    }
   ],
   "source": [
    "function interest(principal, rate = 3.5 , years = 3) {\n",
    "    return principal * (rate / 100) * years;\n",
    "}\n",
    "\n",
    "console.log(interest(10000)); "
   ]
  },
  {
   "cell_type": "markdown",
   "metadata": {},
   "source": [
    "**Note**: \n",
    "\n",
    "When using default parameters, it’s best to put them at the end of the parameter list.\n",
    "\n",
    "Otherwise, if you supply arguments, JavaScript may not know which values correspond to which parameters."
   ]
  },
  {
   "cell_type": "markdown",
   "metadata": {},
   "source": [
    "# Getters and Setters"
   ]
  },
  {
   "cell_type": "code",
   "execution_count": 16,
   "metadata": {},
   "outputs": [
    {
     "name": "stdout",
     "output_type": "stream",
     "text": [
      "John Doe\n"
     ]
    }
   ],
   "source": [
    "const person = {\n",
    "    firstName: \"John\",\n",
    "    lastName: \"Doe\",\n",
    "    fullName() {\n",
    "        return `${this.firstName} ${this.lastName}`;\n",
    "    }\n",
    "}\n",
    "\n",
    "console.log(person.fullName()); // Outputs: John Doe"
   ]
  },
  {
   "cell_type": "markdown",
   "metadata": {},
   "source": [
    "The method above works fine for displaying the full name. However, there are a couple of problems. First, it is **read-only**, so we cannot set or change the person's full name directly. Second, it looks like a method and needs to be called with parentheses. It would be better if we could access it like a regular property.\n",
    "\n",
    "To solve this, we can use **getters and setters**. Getters allow us to define a property that returns a value like a regular property, and setters let us define how to update that property when a new value is assigned."
   ]
  },
  {
   "cell_type": "code",
   "execution_count": 18,
   "metadata": {},
   "outputs": [
    {
     "name": "stdout",
     "output_type": "stream",
     "text": [
      "John Doe\n",
      "Jane Smith\n",
      "---------------\n",
      "{ firstName: \"Jane\", lastName: \"Smith\", fullName: [Getter/Setter] }\n"
     ]
    }
   ],
   "source": [
    "const person = {\n",
    "    firstName: \"John\",\n",
    "    lastName: \"Doe\",\n",
    "    \n",
    "    get fullName() {\n",
    "        return `${this.firstName} ${this.lastName}`;\n",
    "    },\n",
    "\n",
    "    set fullName(name) {\n",
    "        const parts = name.split(\" \");\n",
    "        this.firstName = parts[0];\n",
    "        this.lastName = parts[1];\n",
    "    }\n",
    "}\n",
    "\n",
    "\n",
    "console.log(person.fullName); \n",
    "person.fullName = \"Jane Smith\";\n",
    "console.log(person.fullName); \n",
    "\n",
    "console.log(\"---------------\")\n",
    "console.log(person); "
   ]
  },
  {
   "cell_type": "markdown",
   "metadata": {},
   "source": [
    "# Try and Catch"
   ]
  },
  {
   "cell_type": "code",
   "execution_count": null,
   "metadata": {},
   "outputs": [
    {
     "name": "stderr",
     "output_type": "stream",
     "text": [
      "Full name must consist of first and last name\n"
     ]
    }
   ],
   "source": [
    "const person = {\n",
    "    firstName: \"John\",\n",
    "    lastName: \"Doe\",\n",
    "    \n",
    "    get fullName() {\n",
    "        return `${this.firstName} ${this.lastName}`;\n",
    "    },\n",
    "\n",
    "    set fullName(name) {\n",
    "        if(typeof name !== 'string'){\n",
    "            throw new Error(\"Name must be a string\");\n",
    "        }\n",
    "        const parts = name.split(\" \");\n",
    "        if (parts.length !== 2) {\n",
    "            throw new Error(\"Full name must consist of first and last name\");\n",
    "        }\n",
    "        this.firstName = parts[0];\n",
    "        this.lastName = parts[1];\n",
    "    }\n",
    "}\n",
    "\n",
    "\n",
    "try {\n",
    "    person.fullName = \"Jane\";\n",
    "} catch (error) {\n",
    "    console.error(error.message); \n",
    "}"
   ]
  },
  {
   "cell_type": "markdown",
   "metadata": {},
   "source": [
    "# Local vs Global Scope\n",
    "\n",
    "The scope of a variable or constant refers to where it can be accessed from in the code.\n",
    "\n",
    "When we define a variable using `let` or `const`, its scope is limited to the block (like a function, loop, or if-statement) where it is defined.\n",
    "\n",
    "**Note :**\n",
    "\n",
    "Also, if a variable exists in both global and block (local) scope, the block (local) scope will take precedence over the global scope."
   ]
  },
  {
   "cell_type": "code",
   "execution_count": 28,
   "metadata": {},
   "outputs": [
    {
     "name": "stdout",
     "output_type": "stream",
     "text": [
      "Outside start function, color : red\n",
      "Inside start function, color : blue\n"
     ]
    }
   ],
   "source": [
    "const color = \"red\";\n",
    "\n",
    "function start(){\n",
    "    const color = \"blue\";\n",
    "    console.log(\"Inside start function, color :\", color); \n",
    "}\n",
    "\n",
    "console.log(\"Outside start function, color :\", color); \n",
    "start(); "
   ]
  },
  {
   "cell_type": "markdown",
   "metadata": {},
   "source": [
    "# Let vs Var\n",
    "\n",
    "Both `let` and `const` are **block-scoped**, which means they are only accessible within the block where they are defined.\n",
    "\n",
    "However, there are two issues with the `var` keyword:\n",
    "\n",
    "1. **Function Scope:**\n",
    "`var` is **function-scoped**, not block-scoped. If we declare a `var` variable inside an `if` or `else` block (but within a function), it can still be accessed **outside the block**, as long as it’s within the same function.\n",
    "\n",
    "2. **Global Scope and window Object:**\n",
    "When we declare a `var` variable in the **global scope**, it becomes a property of the window object (in browsers).\n",
    "This is risky because if a third-party library defines a global variable with the same name, it can **override** your variable, causing unexpected behavior."
   ]
  },
  {
   "cell_type": "code",
   "execution_count": 1,
   "metadata": {},
   "outputs": [
    {
     "name": "stdout",
     "output_type": "stream",
     "text": [
      "Inside loop, i: 0\n",
      "Inside loop, i: 1\n",
      "Inside loop, i: 2\n",
      "Inside loop, i: 3\n",
      "Inside loop, i: 4\n",
      "After loop, i: 5\n"
     ]
    }
   ],
   "source": [
    "function start(){\n",
    "\n",
    "    for (var i = 0; i < 5; i++) {\n",
    "        console.log(\"Inside loop, i:\", i);\n",
    "    }\n",
    "\n",
    "    console.log(\"After loop, i:\", i);\n",
    "}\n",
    "\n",
    "start();"
   ]
  },
  {
   "cell_type": "markdown",
   "metadata": {},
   "source": [
    "# The This keyword\n",
    "\n",
    "The `this` keyword refers to the object that is executing the current function.\n",
    "\n",
    "- If the function is a **method** (a function defined inside an object), then this refers to the **object that owns the method**.\n",
    "\n",
    "- If the function is a **regular function** (not inside an object), then this refers to the **global object**:\n",
    "\n",
    "    - In **browsers**, the global object is `window`.\n",
    "\n",
    "    - In **Node.js**, the global object is `global`.\n",
    "\n"
   ]
  },
  {
   "cell_type": "markdown",
   "metadata": {},
   "source": [
    "#### Method Example -:\n"
   ]
  },
  {
   "cell_type": "code",
   "execution_count": null,
   "metadata": {},
   "outputs": [
    {
     "name": "stdout",
     "output_type": "stream",
     "text": [
      "Inside Video :  { title: \"a\", play: [Function: play] }\n",
      "Outside Video :  { title: \"a\", play: [Function: play], stop: [Function (anonymous)] }\n"
     ]
    }
   ],
   "source": [
    "const video = {\n",
    "    title : \"a\",\n",
    "    play() {\n",
    "        console.log(\"Inside Video : \", this);\n",
    "    },\n",
    "}\n",
    "\n",
    "video.play();\n",
    "\n",
    "video.stop = function() {\n",
    "    console.log(\"Outside Video : \", this);\n",
    "}\n",
    "\n",
    "video.stop();"
   ]
  },
  {
   "cell_type": "markdown",
   "metadata": {},
   "source": [
    "### Regular Function example -:"
   ]
  },
  {
   "cell_type": "code",
   "execution_count": null,
   "metadata": {},
   "outputs": [],
   "source": [
    "function swim() {\n",
    "    console.log(this);\n",
    "}\n",
    "\n",
    "swim();"
   ]
  },
  {
   "cell_type": "markdown",
   "metadata": {},
   "source": [
    "This code would return the `window` object in a browser.\n",
    "\n",
    "However, since it's not running in a browser environment, there is no `window` object, so `this` returns `undefined` instead."
   ]
  },
  {
   "cell_type": "markdown",
   "metadata": {},
   "source": [
    "When we create an object using a **constructor function**, we should use the `new` keyword. Calling the function with `new` creates a new object, and inside that function, the `this` keyword refers to that new object."
   ]
  },
  {
   "cell_type": "code",
   "execution_count": 10,
   "metadata": {},
   "outputs": [
    {
     "name": "stdout",
     "output_type": "stream",
     "text": [
      "Run { title: \"a\" }\n"
     ]
    }
   ],
   "source": [
    "function Run(title){\n",
    "    this.title = title;\n",
    "    console.log(this)\n",
    "}\n",
    "\n",
    "const v = new Run(\"a\");\n"
   ]
  },
  {
   "cell_type": "code",
   "execution_count": 14,
   "metadata": {},
   "outputs": [
    {
     "name": "stdout",
     "output_type": "stream",
     "text": [
      "Title  :  a\n",
      "Title  :  b\n",
      "Title  :  c\n"
     ]
    }
   ],
   "source": [
    "const film = {\n",
    "    title : \"Title\",\n",
    "    tags: [\"a\", \"b\", \"c\"],\n",
    "    showTags() {\n",
    "        this.tags.forEach(function(tag) {\n",
    "            console.log(this.title, \" : \", tag);\n",
    "        }, this); // Passing 'this' as the second argument to bind the context\n",
    "    }\n",
    "}\n",
    "\n",
    "film.showTags(); "
   ]
  },
  {
   "cell_type": "markdown",
   "metadata": {},
   "source": [
    "In this example, we pass `this` as the second argument to the `forEach` callback.\n",
    "\n",
    "Even though the callback function is written inside a method, it is still treated as a **regular function**, not a method.\n",
    "\n",
    "By default, in regular functions, `this` does not refer to the object (film). Instead, it refers to the global object (or undefined in strict mode).\n",
    "\n",
    "So, to make sure `this` inside the callback refers to the correct object (film), we pass `this` explicitly as the second argument to forEach.\n",
    "\n"
   ]
  },
  {
   "cell_type": "markdown",
   "metadata": {},
   "source": [
    "# Changing This\n",
    "\n",
    "But not all methods in JavaScript allow us to pass `this` as an argument to change the value of `this`."
   ]
  },
  {
   "cell_type": "code",
   "execution_count": null,
   "metadata": {},
   "outputs": [
    {
     "name": "stdout",
     "output_type": "stream",
     "text": [
      "Title  :  a\n",
      "Title  :  b\n",
      "Title  :  c\n"
     ]
    }
   ],
   "source": [
    "// Solution 01 -> Not the Best Approach\n",
    "\n",
    "const film = {\n",
    "    title : \"Title\",\n",
    "    tags: [\"a\", \"b\", \"c\"],\n",
    "    showTags() {\n",
    "        const self = this; // Capture 'this' in a variable\n",
    "        this.tags.forEach(function(tag) {\n",
    "            console.log(self.title, \" : \", tag);\n",
    "        }); \n",
    "    }\n",
    "}\n",
    "\n",
    "film.showTags(); "
   ]
  },
  {
   "cell_type": "markdown",
   "metadata": {},
   "source": [
    "We learned earlier that all functions in JavaScript are also objects. So, we can access their methods using the dot (`.`) operator.\n",
    "\n",
    "There are three important methods: `call`, `apply`, and `bind`. These methods allow us to change the value of `this` when calling a function.\n",
    "\n",
    "- `call`: Calls the function immediately and allows us to pass arguments one by one.\n",
    "\n",
    "- `apply`: Also calls the function immediately, but arguments must be passed as an array.\n",
    "\n",
    "- `bind`: Does not call the function immediately. Instead, it returns a new function with the specified this value bound to it.\n",
    "\n"
   ]
  },
  {
   "cell_type": "code",
   "execution_count": null,
   "metadata": {},
   "outputs": [
    {
     "name": "stdout",
     "output_type": "stream",
     "text": [
      "undefined\n",
      "{ name: \"Titanic\" }\n",
      "{ name: \"Titanic\" }\n",
      "{ name: \"Titanic\" }\n"
     ]
    }
   ],
   "source": [
    "function playVideo(a, b){\n",
    "    console.log(this);\n",
    "}\n",
    "\n",
    "playVideo(); // 'this' will be the global object or undefined(Not In Browser)\n",
    "\n",
    "playVideo.call({name:'Titanic'}, 1, 2); \n",
    "playVideo.apply({name:'Titanic'}, [1, 2]);\n",
    "playVideo.bind({name:'Titanic'})();"
   ]
  },
  {
   "cell_type": "code",
   "execution_count": null,
   "metadata": {},
   "outputs": [
    {
     "name": "stdout",
     "output_type": "stream",
     "text": [
      "Title  :  a\n",
      "Title  :  b\n",
      "Title  :  c\n"
     ]
    }
   ],
   "source": [
    "// Solution 02 -> Using bind to set the context of 'this'\n",
    "\n",
    "const film = {\n",
    "    title : \"Title\",\n",
    "    tags: [\"a\", \"b\", \"c\"],\n",
    "    showTags() {\n",
    "        this.tags.forEach(function(tag) {\n",
    "            console.log(this.title, \" : \", tag);\n",
    "        }.bind(this)); // Using bind to set the context of 'this'\n",
    "    }\n",
    "}\n",
    "\n",
    "film.showTags(); "
   ]
  },
  {
   "cell_type": "markdown",
   "metadata": {},
   "source": [
    "But there is a better way to handle `this`.\n",
    "\n",
    "Starting from ECMAScript 6 (ES6), we can use **arrow functions**.\n",
    "\n",
    "In arrow functions, `this` is **lexically inherited** from the surrounding (containing) function.\n",
    "\n",
    "This means that arrow functions do **not** have their own `this` — they automatically use the `this` from the outer scope."
   ]
  },
  {
   "cell_type": "code",
   "execution_count": null,
   "metadata": {},
   "outputs": [
    {
     "name": "stdout",
     "output_type": "stream",
     "text": [
      "Title  :  a\n",
      "Title  :  b\n",
      "Title  :  c\n"
     ]
    }
   ],
   "source": [
    "// Solution 03 -> Using Arrow Function to maintain the context of 'this'\n",
    "\n",
    "const video = {\n",
    "    title: \"Title\",\n",
    "    tags : [\"a\", \"b\", \"c\"],\n",
    "\n",
    "    showTags() {\n",
    "        this.tags.forEach((tag) => {\n",
    "            console.log(this.title, \" : \", tag); \n",
    "        });\n",
    "    }\n",
    "}\n",
    "\n",
    "video.showTags();"
   ]
  }
 ],
 "metadata": {
  "kernelspec": {
   "display_name": "Deno",
   "language": "typescript",
   "name": "deno"
  },
  "language_info": {
   "codemirror_mode": "typescript",
   "file_extension": ".ts",
   "mimetype": "text/x.typescript",
   "name": "typescript",
   "nbconvert_exporter": "script",
   "pygments_lexer": "typescript",
   "version": "5.8.3"
  }
 },
 "nbformat": 4,
 "nbformat_minor": 2
}
