{
 "cells": [
  {
   "cell_type": "markdown",
   "metadata": {},
   "source": [
    "# Function Declaration vs Expression"
   ]
  },
  {
   "cell_type": "code",
   "execution_count": null,
   "metadata": {},
   "outputs": [
    {
     "name": "stdout",
     "output_type": "stream",
     "text": [
      "Walking...\n",
      "Running...\n",
      "Jumping...\n",
      "Swimming...\n",
      "I am an IIFE!\n"
     ]
    }
   ],
   "source": [
    "// Function Expression\n",
    "function walk() {\n",
    "    console.log(\"Walking...\");\n",
    "}\n",
    "\n",
    "walk(); \n",
    "\n",
    "\n",
    "\n",
    "// Anonymous Function Declaration\n",
    "const run = function() {\n",
    "    console.log(\"Running...\");\n",
    "};\n",
    "\n",
    "run(); \n",
    "\n",
    "\n",
    "\n",
    "// Named Function Expression\n",
    "const jump = function jumpFunction() {\n",
    "    console.log(\"Jumping...\");\n",
    "};\n",
    "\n",
    "jump();  // The name jumpFunction can only be used inside the function itself, not outside, so you must call it using jump instead.\n",
    "\n",
    "\n",
    "\n",
    "// Arrow Function\n",
    "const swim = () => {\n",
    "    console.log(\"Swimming...\");\n",
    "};\n",
    "\n",
    "swim(); \n",
    "\n",
    "\n",
    "\n",
    "// Immediately Invoked Function Expression (IIFE)\n",
    "(function() {\n",
    "    console.log(\"I am an IIFE!\");\n",
    "})();"
   ]
  }
 ],
 "metadata": {
  "kernelspec": {
   "display_name": "Deno",
   "language": "typescript",
   "name": "deno"
  },
  "language_info": {
   "codemirror_mode": "typescript",
   "file_extension": ".ts",
   "mimetype": "text/x.typescript",
   "name": "typescript",
   "nbconvert_exporter": "script",
   "pygments_lexer": "typescript",
   "version": "5.8.3"
  }
 },
 "nbformat": 4,
 "nbformat_minor": 2
}
