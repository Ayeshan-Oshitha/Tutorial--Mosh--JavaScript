{
 "cells": [
  {
   "cell_type": "markdown",
   "metadata": {},
   "source": [
    "# What is JavaScript \n",
    "\n",
    "### What is Javascript ?\n",
    "\n",
    "For a long time, JavaScript was mainly used to build interactive webpages. These days, we can use JavaScript to build web and mobile apps, real-time networking apps, command-line tools, and even games.\n",
    "\n",
    "### What can you do with it?\n",
    "\n",
    "For a long time, JavaScript was mainly used to build interactive webpages. These days, we can use JavaScript to build web and mobile apps, real-time networking apps, command-line tools, and even games.\n",
    "\n",
    "### Where can javascript code run ?\n",
    "\n",
    "Originally, JavaScript was designed to run in browsers, and every browser has a JavaScript engine that can execute JavaScript code. For example, the JavaScript engine in Firefox is called SpiderMonkey, and in Chrome, it's V8.\n",
    "\n",
    "In 2009, an engineer embedded Chrome's V8 engine into C++ and created Node.js. With this, JavaScript can now run outside of the browser, allowing us to build backend services and mobile applications. So, JavaScript can run both in the browser and on servers using Node.js.\n",
    "\n",
    "### Javascript vs ECMAScript ?\n",
    "\n",
    "ECMAScript is a specification, and JavaScript is a programming language that follows this specification. The first version of ECMAScript was released in 1997. In 2015, ECMAScript version 6 (also known as ES6) was released, introducing many powerful features to the language.\n",
    "\n"
   ]
  },
  {
   "cell_type": "markdown",
   "metadata": {},
   "source": [
    "# JavaScript in Node\n",
    "\n",
    "If you're using Node.js (to run JavaScript outside the browser), you save your code in a file (e.g., filename.js) and run it using the terminal or command prompt.\n",
    "\n",
    "Command:\n",
    "```\n",
    "node filename.js\n",
    "```"
   ]
  }
 ],
 "metadata": {
  "kernelspec": {
   "display_name": "Deno",
   "language": "typescript",
   "name": "deno"
  },
  "language_info": {
   "name": "typescript"
  }
 },
 "nbformat": 4,
 "nbformat_minor": 2
}
