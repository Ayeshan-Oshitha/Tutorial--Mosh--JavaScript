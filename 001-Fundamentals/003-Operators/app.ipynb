{
 "cells": [
  {
   "cell_type": "markdown",
   "metadata": {},
   "source": [
    "# Javascript Operators\n",
    "\n",
    "JavaScript provides different types of operators, including:\n",
    "\n",
    "- Arithmetic Operators\n",
    "- Assignment Operators\n",
    "- Comparison Operators\n",
    "- Logical Operators\n",
    "- Bitwise Operators"
   ]
  },
  {
   "cell_type": "markdown",
   "metadata": {},
   "source": [
    "# Arithmetic Operators\n",
    "\n"
   ]
  },
  {
   "cell_type": "code",
   "execution_count": null,
   "metadata": {},
   "outputs": [],
   "source": [
    "let x = 10;\n",
    "let y = 3;\n",
    "\n",
    "console.log(x + y); // 13\n",
    "console.log(x - y); // 7\n",
    "console.log(x * y); // 30\n",
    "console.log(x / y); // 3.3333333333333335\n",
    "console.log(x % y); // 1\n",
    "console.log(x ** y); // 1000\n",
    "\n",
    "// Postfix Increment \n",
    "x = 10;\n",
    "console.log(x++); // 10\n",
    "console.log(x); // 11\n",
    "\n",
    "// Prefix Increment\n",
    "x = 10;\n",
    "console.log(++x); // 12\n",
    "console.log(x); // 12\n",
    "\n",
    "// Postfix Decrement\n",
    "x = 10;\n",
    "console.log(x--); // 10\n",
    "console.log(x); // 9\n",
    "\n",
    "// Prefix Decrement\n",
    "x = 10;\n",
    "console.log(--x); // 9\n",
    "console.log(x); // 9\n"
   ]
  },
  {
   "cell_type": "markdown",
   "metadata": {},
   "source": [
    "# Assignment Operators"
   ]
  },
  {
   "cell_type": "code",
   "execution_count": null,
   "metadata": {},
   "outputs": [],
   "source": [
    "let a = 10;\n",
    "\n",
    "console.log(a += 5); // 15\n",
    "console.log(a -= 5); // 10\n",
    "console.log(a *= 5); // 50\n",
    "console.log(a /= 5); // 10"
   ]
  },
  {
   "cell_type": "markdown",
   "metadata": {},
   "source": [
    "# Comparison Operators\n"
   ]
  },
  {
   "cell_type": "code",
   "execution_count": null,
   "metadata": {},
   "outputs": [],
   "source": [
    "let x = 10;\n",
    "let y = 20;\n",
    "\n",
    "// Relational Operators\n",
    "console.log(x == y); // false\n",
    "console.log(x != y); // true\n",
    "console.log(x > y); // false\n",
    "console.log(x < y); // true\n",
    "console.log(x >= y); // false\n",
    "console.log(x <= y); // true"
   ]
  },
  {
   "cell_type": "markdown",
   "metadata": {},
   "source": [
    "# Equality Operator"
   ]
  },
  {
   "cell_type": "code",
   "execution_count": null,
   "metadata": {},
   "outputs": [],
   "source": [
    "// Loose Equality\n",
    "console.log(10 == \"10\");  // true  → loose equality (==) compares values after type coercion(type conversion)\n",
    "console.log(10 != \"10\");  // false → loose inequality (!=) also does type coercion\n",
    "console.log(true == 1); // true  → loose equality (==) converts boolean to number\n",
    "\n",
    "// Strict Equality(Type + Value)\n",
    "console.log(10 === \"10\"); // false → strict equality (===) checks both value AND type (number !== string)\n",
    "console.log(10 !== \"10\"); // true  → strict inequality (!==) checks both value AND type\n",
    "console.log(true === 1); // false → strict equality (===) checks both value AND type (boolean !== number)"
   ]
  },
  {
   "cell_type": "markdown",
   "metadata": {},
   "source": [
    "# Ternary Operator"
   ]
  },
  {
   "cell_type": "code",
   "execution_count": null,
   "metadata": {},
   "outputs": [],
   "source": [
    "// If a customer has more than 100 points,\n",
    "// they are a \"gold\" customer, otherwise they are a \"silver\" customer\n",
    "\n",
    "let points = 110;\n",
    "let type = points > 100 ? \"gold\" : \"silver\";\n",
    "console.log(type); // gold"
   ]
  },
  {
   "cell_type": "markdown",
   "metadata": {},
   "source": [
    "# Logical Operators with Boolean\n",
    "\n",
    "There are three logical operators in JavaScript: AND (&&), OR (||), and NOT (!)."
   ]
  },
  {
   "cell_type": "code",
   "execution_count": null,
   "metadata": {},
   "outputs": [],
   "source": [
    "// Logical AND (&&)\n",
    "// Returns TRUE if both operands are true\n",
    "console.log(true && true); // true\n",
    "console.log(true && false); // false\n",
    "\n",
    "let highIncome = true;\n",
    "let goodCreditScore = true;\n",
    "let eligibleForLoan = highIncome && goodCreditScore;\n",
    "console.log(eligibleForLoan); // true\n",
    "\n",
    "\n",
    "\n",
    "// Logical OR (||)\n",
    "// Returns TRUE if at least one operand is true\n",
    "console.log(true || false); // true\n",
    "console.log(false || false); // false\n",
    "\n",
    "highIncome = false;\n",
    "goodCreditScore = true;\n",
    "eligibleForLoan = highIncome || goodCreditScore;\n",
    "console.log(eligibleForLoan); // true\n",
    "\n",
    "\n",
    "\n",
    "// Logical NOT (!)\n",
    "// Returns TRUE if operand is false\n",
    "\n",
    "highIncome = true;\n",
    "goodCreditScore = true;\n",
    "eligibleForLoan = highIncome && goodCreditScore;\n",
    "applicantRejected = !eligibleForLoan;\n",
    "console.log(applicantRejected); // false\n"
   ]
  },
  {
   "cell_type": "markdown",
   "metadata": {},
   "source": [
    "# Logical Operators with non boolean values\n",
    "\n",
    "Unlike other languages, JavaScript allows logical operators to be used with Non-boolean values.\n",
    "\n",
    "In JavaScript, values like `undefined`, `null`, `0`, `false`, `empty strings (\"\")`, and `NaN` are considered falsy, while all other values are truthy."
   ]
  },
  {
   "cell_type": "code",
   "execution_count": null,
   "metadata": {},
   "outputs": [],
   "source": [
    "console.log(false || true); // true\n",
    "\n",
    "console.log(false || 'John'); // John (second operand is true, so it returns that)\n",
    "\n",
    "console.log(false || 1); // 1"
   ]
  },
  {
   "cell_type": "code",
   "execution_count": null,
   "metadata": {},
   "outputs": [
    {
     "name": "stdout",
     "output_type": "stream",
     "text": [
      "1\n"
     ]
    }
   ],
   "source": [
    "console.log(false || 1 || 2) \n"
   ]
  },
  {
   "cell_type": "markdown",
   "metadata": {},
   "source": [
    "In the expression `false || 1 || 2`, the evaluation stops and returns `1` as soon as it finds a truthy value because this is called `short-circuiting`, where the operation stops early once the outcome is determined."
   ]
  },
  {
   "cell_type": "code",
   "execution_count": null,
   "metadata": {},
   "outputs": [
    {
     "name": "stdout",
     "output_type": "stream",
     "text": [
      "blue\n"
     ]
    }
   ],
   "source": [
    "// Real-world example\n",
    "\n",
    "let userColor = undefined\n",
    "let defaultColor = 'blue'\n",
    "let currentColor = userColor || defaultColor\n",
    "console.log(currentColor); \n"
   ]
  },
  {
   "cell_type": "markdown",
   "metadata": {},
   "source": [
    "# BitWise Operator"
   ]
  },
  {
   "cell_type": "code",
   "execution_count": 6,
   "metadata": {},
   "outputs": [
    {
     "name": "stdout",
     "output_type": "stream",
     "text": [
      "Bitwise OR :  3\n",
      "Bitwise AND :  0\n",
      "Bitwise XOR :  3\n",
      "Bitwise NOT : -2\n"
     ]
    }
   ],
   "source": [
    "// 1 - 00000001\n",
    "// 2 - 00000010\n",
    "\n",
    "console.log(\"Bitwise OR : \", 1 | 2);  // Bitwise OR\n",
    "console.log(\"Bitwise AND : \", 1 & 2); // Bitwise AND\n",
    "console.log(\"Bitwise XOR : \", 1 ^ 2); // Bitwise XOR\n",
    "console.log(\"Bitwise NOT :\", ~1);  // Bitwise NOT"
   ]
  },
  {
   "cell_type": "code",
   "execution_count": null,
   "metadata": {},
   "outputs": [],
   "source": [
    "// Real-world example -- Access Control\n",
    "\n",
    "// Read, Write, Execute ( last 3 digits used for these)\n",
    "// 00000100 (read)\n",
    "// 00000010 (write)\n",
    "// 00000111 (read + write + execute)\n",
    "\n",
    "const readPermission = 4; // 00000100\n",
    "const writePermission = 2; // 00000010\n",
    "const executePermission = 1; // 00000001\n",
    "\n",
    "let myPermission = 0; // 00000000\n",
    "myPermission = myPermission | readPermission | writePermission; \n",
    "console.log(myPermission); // 6\n",
    "\n",
    "let message = (myPermission & readPermission) ? 'yes' : 'no';\n",
    "console.log(message); // yes"
   ]
  },
  {
   "cell_type": "markdown",
   "metadata": {},
   "source": [
    "With the Bitwise OR operator, we can add permissions, and with the Bitwise AND operator, we can check permissions."
   ]
  },
  {
   "cell_type": "markdown",
   "metadata": {},
   "source": [
    "# Operator Precedence"
   ]
  },
  {
   "cell_type": "markdown",
   "metadata": {},
   "source": [
    "() (Parentheses)\n",
    "\n",
    ". and [] (Member access)\n",
    "\n",
    "!, ++, -- (Unary operators)\n",
    "\n",
    "*, /, % (Multiplication, Division, Modulus)\n",
    "\n",
    "+, - (Addition, Subtraction)\n",
    "\n",
    "<, >, <=, >= (Comparisons)\n",
    "\n",
    "==, !=, ===, !== (Equality)\n",
    "\n",
    "&& (Logical AND)\n",
    "\n",
    "|| (Logical OR)\n",
    "\n",
    "= (Assignment)"
   ]
  }
 ],
 "metadata": {
  "kernelspec": {
   "display_name": "Deno",
   "language": "typescript",
   "name": "deno"
  },
  "language_info": {
   "codemirror_mode": "typescript",
   "file_extension": ".ts",
   "mimetype": "text/x.typescript",
   "name": "typescript",
   "nbconvert_exporter": "script",
   "pygments_lexer": "typescript",
   "version": "5.8.3"
  }
 },
 "nbformat": 4,
 "nbformat_minor": 2
}
