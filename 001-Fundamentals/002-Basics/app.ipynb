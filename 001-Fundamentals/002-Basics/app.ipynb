{
 "cells": [
  {
   "cell_type": "markdown",
   "metadata": {},
   "source": [
    "# Variables\n",
    "\n",
    "A variable is a container used to store data that can change during the execution of a program. For example, you can store a number, a string, or any value in a variable and use it later in your code.\n",
    "\n",
    "Before ES6 (released in 2015), we used the `var` keyword to declare variables. But now, the best practice is to use the `let` keyword, because it provides better control over how variables are used and avoids some common issues with `var`."
   ]
  },
  {
   "cell_type": "code",
   "execution_count": 10,
   "metadata": {},
   "outputs": [
    {
     "name": "stdout",
     "output_type": "stream",
     "text": [
      "undefined\n",
      "John\n"
     ]
    }
   ],
   "source": [
    "let name;\n",
    "console.log(name); \n",
    "\n",
    "// let name = \"John\"; --> Error: Cannot redeclare block-scoped variable 'name'\n",
    "name= \"John\";\n",
    "console.log(name); "
   ]
  },
  {
   "cell_type": "markdown",
   "metadata": {},
   "source": [
    "#### Rules for Naming Variables\n",
    "\n",
    "1. A variable name cannot be a reserved keyword like if or for.\n",
    "\n",
    "2. Variable names should be meaningful and describe the value they hold.\n",
    "\n",
    "3. A variable name cannot start with a number.\n",
    "\n",
    "4. Variable names cannot contain spaces or hyphens.\n",
    "\n",
    "5. Variable names are case-sensitive."
   ]
  },
  {
   "cell_type": "markdown",
   "metadata": {},
   "source": [
    "# Constants\n",
    "\n",
    "A constant is a variable whose value cannot be changed once it is assigned. In JavaScript, we use the `const` keyword to declare constants."
   ]
  },
  {
   "cell_type": "code",
   "execution_count": 3,
   "metadata": {},
   "outputs": [
    {
     "name": "stdout",
     "output_type": "stream",
     "text": [
      "30\n"
     ]
    }
   ],
   "source": [
    "const age = 30;\n",
    "console.log(age);"
   ]
  },
  {
   "cell_type": "markdown",
   "metadata": {},
   "source": [
    "# Primitive Types\n",
    "\n",
    "In JavaScript, there are two main types of data: `primitive types` and `reference types`.\n",
    "\n",
    "The primitive types are: `string`, `number`, `boolean`, `undefined`, and `null`.\n",
    "\n",
    "These types store simple values and are not objects.\n",
    "\n"
   ]
  },
  {
   "cell_type": "code",
   "execution_count": null,
   "metadata": {},
   "outputs": [],
   "source": [
    "let name = \"John\";        // String Literal\n",
    "let age = 30;             // Number Literal\n",
    "let isEmployed = true;    // Boolean Literal\n",
    "let firstName = undefined;\n",
    "let selectedColor = null;"
   ]
  },
  {
   "cell_type": "markdown",
   "metadata": {},
   "source": [
    "# Dynamic Typing\n",
    "\n",
    "There are two types of programming languages: static and dynamic.\n",
    "\n",
    "In a static language, once you set the type of a variable, you cannot change its type later. Examples of static languages include Java, C#, and TypeScript.\n",
    "\n",
    "In a dynamic language like JavaScript and Python, the type of a variable can change at runtime. This means you can assign a number to a variable and later assign a string or another type to the same variable."
   ]
  },
  {
   "cell_type": "code",
   "execution_count": 6,
   "metadata": {},
   "outputs": [
    {
     "name": "stdout",
     "output_type": "stream",
     "text": [
      "string\n",
      "number\n"
     ]
    }
   ],
   "source": [
    "let x = \"abc\";\n",
    "console.log(typeof(x)); // string\n",
    "\n",
    "x = 123;\n",
    "console.log(typeof(x)); // number"
   ]
  },
  {
   "cell_type": "markdown",
   "metadata": {},
   "source": [
    "Note: In JavaScript, there is no separate type for integers and floating-point numbers — all numeric values are simply of type `number`."
   ]
  },
  {
   "cell_type": "code",
   "execution_count": 7,
   "metadata": {},
   "outputs": [
    {
     "name": "stdout",
     "output_type": "stream",
     "text": [
      "undefined\n",
      "object\n"
     ]
    }
   ],
   "source": [
    "let y = undefined;\n",
    "console.log(typeof(y)); // undefined\n",
    "\n",
    "let z = null;\n",
    "console.log(typeof(z)); // object"
   ]
  },
  {
   "cell_type": "markdown",
   "metadata": {},
   "source": [
    "# Object\n",
    "\n",
    "In JavaScript, there are reference types. Examples of reference types are `objects`, `arrays`, and `functions`.\n",
    "\n",
    "An object in JavaScript is a collection of key-value pairs."
   ]
  },
  {
   "cell_type": "code",
   "execution_count": null,
   "metadata": {},
   "outputs": [],
   "source": [
    "let person = {\n",
    "    firstName: \"John\",\n",
    "    lastName: \"Doe\",\n",
    "    age: 30,\n",
    "    isEmployed: true\n",
    "}\n",
    "\n",
    "console.log(person);"
   ]
  },
  {
   "cell_type": "code",
   "execution_count": null,
   "metadata": {},
   "outputs": [],
   "source": [
    "// Accessing (reading and editing) Object Properties in JavaScript\n",
    "\n",
    "// Dot Notation\n",
    "console.log(person.firstName);\n",
    "\n",
    "// Bracket Notation\n",
    "console.log(person[\"firstName\"]);"
   ]
  },
  {
   "cell_type": "markdown",
   "metadata": {},
   "source": [
    "# Arrays\n",
    "\n",
    "An array is basically a data structure used to represent a list of items. \n",
    "\n",
    "In JavaScript, the length of an array is dynamic, meaning it can change as you add or remove elements. Also, the types of elements in an array are dynamic, which means an array can contain different types of values in a single array."
   ]
  },
  {
   "cell_type": "code",
   "execution_count": 12,
   "metadata": {},
   "outputs": [
    {
     "name": "stdout",
     "output_type": "stream",
     "text": [
      "red\n",
      "[ \"red\", \"blue\", \"yellow\" ]\n",
      "[ \"red\", \"blue\", \"yellow\", 1 ]\n"
     ]
    }
   ],
   "source": [
    "let selectedColors = [\"red\", \"blue\", \"green\"];\n",
    "console.log(selectedColors[0]); // red\n",
    "\n",
    "selectedColors[2] = \"yellow\"; // changing the value of the third element\n",
    "console.log(selectedColors)\n",
    "\n",
    "selectedColors[3] = 1; // adding a new element\n",
    "console.log(selectedColors); // red, blue, yellow, 1\n",
    "\n"
   ]
  },
  {
   "cell_type": "markdown",
   "metadata": {},
   "source": [
    "Technically, an array is also an object in JavaScript. This means we can access its properties, like length, using dot notation."
   ]
  },
  {
   "cell_type": "code",
   "execution_count": 14,
   "metadata": {},
   "outputs": [
    {
     "name": "stdout",
     "output_type": "stream",
     "text": [
      "object\n",
      "4\n"
     ]
    }
   ],
   "source": [
    "console.log(typeof(selectedColors)); // object\n",
    "\n",
    "console.log(selectedColors.length); // 4"
   ]
  },
  {
   "cell_type": "markdown",
   "metadata": {},
   "source": [
    "# Functions\n",
    "\n",
    "A function in JavaScript is a block of reusable code designed to perform a specific task."
   ]
  },
  {
   "cell_type": "code",
   "execution_count": null,
   "metadata": {},
   "outputs": [
    {
     "name": "stdout",
     "output_type": "stream",
     "text": [
      "Hello World\n"
     ]
    }
   ],
   "source": [
    "// functipon declaration\n",
    "\n",
    "function greet(){\n",
    "    console.log(\"Hello World\");\n",
    "}\n",
    "\n",
    "greet(); "
   ]
  },
  {
   "cell_type": "code",
   "execution_count": 17,
   "metadata": {},
   "outputs": [
    {
     "name": "stdout",
     "output_type": "stream",
     "text": [
      "Hello John Smith\n",
      "Hello Mosh undefined\n"
     ]
    }
   ],
   "source": [
    "// Function with parameters\n",
    "\n",
    "// Parameters are the names listed in the function definition (e.g., firstName, lastName).\n",
    "// Arguments are the actual values passed to the function when it is called (e.g., \"John\", \"Smith\").\n",
    "\n",
    "function greet(firstName, lastName) {\n",
    "    console.log(\"Hello \" + firstName + \" \" + lastName);\n",
    "}\n",
    "\n",
    "// Calling the function with arguments \"John\" and \"Smith\"\n",
    "greet(\"John\", \"Smith\");\n",
    "\n",
    "// Calling the function with arguments \"Mosh\" and undefined (lastName is missing)\n",
    "greet(\"Mosh\");"
   ]
  },
  {
   "cell_type": "markdown",
   "metadata": {},
   "source": [
    "# Types of Functions"
   ]
  },
  {
   "cell_type": "code",
   "execution_count": 18,
   "metadata": {},
   "outputs": [
    {
     "name": "stdout",
     "output_type": "stream",
     "text": [
      "Hello John\n",
      "4\n"
     ]
    }
   ],
   "source": [
    "// Performing a task\n",
    "function greet(name){\n",
    "    console.log(\"Hello \" + name);\n",
    "}\n",
    "\n",
    "// Calculating a value\n",
    "function square(number){\n",
    "    return number * number;\n",
    "}\n",
    "\n",
    "greet(\"John\");\n",
    "\n",
    "let result = square(2);\n",
    "console.log(result); "
   ]
  }
 ],
 "metadata": {
  "kernelspec": {
   "display_name": "Deno",
   "language": "typescript",
   "name": "deno"
  },
  "language_info": {
   "codemirror_mode": "typescript",
   "file_extension": ".ts",
   "mimetype": "text/x.typescript",
   "name": "typescript",
   "nbconvert_exporter": "script",
   "pygments_lexer": "typescript",
   "version": "5.8.3"
  }
 },
 "nbformat": 4,
 "nbformat_minor": 2
}
