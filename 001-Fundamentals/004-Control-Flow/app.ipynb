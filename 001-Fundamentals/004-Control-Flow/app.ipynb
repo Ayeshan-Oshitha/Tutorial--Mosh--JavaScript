{
 "cells": [
  {
   "cell_type": "markdown",
   "metadata": {},
   "source": [
    "In JavaScript, there are two main types of conditional statements:\n",
    "\n",
    "1. if...else statement\n",
    "\n",
    "2. switch statement"
   ]
  },
  {
   "cell_type": "markdown",
   "metadata": {},
   "source": [
    "# If Else"
   ]
  },
  {
   "cell_type": "code",
   "execution_count": null,
   "metadata": {},
   "outputs": [],
   "source": [
    "// Hour\n",
    "// If Hour is between 6am and 12pm: Good morning!\n",
    "// If it is between 12pm and 6pm: Good afternoon!\n",
    "// Otherwise: Good evening!\n",
    "\n",
    "let hour = 10;\n",
    "\n",
    "if (hour >= 6 && hour < 12) {\n",
    "    console.log(\"Good morning!\");\n",
    "} else if (hour >= 12 && hour < 18) {\n",
    "    console.log(\"Good afternoon!\");\n",
    "} else {\n",
    "    console.log(\"Good evening!\");\n",
    "}"
   ]
  },
  {
   "cell_type": "markdown",
   "metadata": {},
   "source": [
    "# Switch Case"
   ]
  },
  {
   "cell_type": "code",
   "execution_count": null,
   "metadata": {},
   "outputs": [],
   "source": [
    "let role = \"editor\";\n",
    "\n",
    "switch (role) { \n",
    "    case \"admin\":\n",
    "        console.log(\"Admin access granted.\");\n",
    "        break;\n",
    "    case \"editor\":\n",
    "        console.log(\"Editor access granted.\");\n",
    "        break;\n",
    "    case \"viewer\":\n",
    "        console.log(\"Viewer access granted.\");\n",
    "        break;\n",
    "    default:\n",
    "        console.log(\"No access granted.\");\n",
    "}"
   ]
  },
  {
   "cell_type": "markdown",
   "metadata": {},
   "source": [
    "In JavaScript, there are different types of loops:\n",
    "\n",
    "1. for loop\n",
    "\n",
    "2. while loop\n",
    "\n",
    "3. do...while loop\n",
    "\n",
    "4. for...of loop\n",
    "\n",
    "5. for...in loop"
   ]
  },
  {
   "cell_type": "markdown",
   "metadata": {},
   "source": [
    "# For Loop"
   ]
  },
  {
   "cell_type": "code",
   "execution_count": null,
   "metadata": {},
   "outputs": [],
   "source": [
    "for (let i = 0; i < 5; i++) {\n",
    "    console.log(\"Iteration number: \" + i);\n",
    "}"
   ]
  },
  {
   "cell_type": "markdown",
   "metadata": {},
   "source": [
    "# While Loop"
   ]
  },
  {
   "cell_type": "code",
   "execution_count": null,
   "metadata": {},
   "outputs": [],
   "source": [
    "let i = 0;\n",
    "\n",
    "while (i < 5) {\n",
    "    console.log(\"While loop iteration: \" + i);\n",
    "    i++;\n",
    "}"
   ]
  },
  {
   "cell_type": "markdown",
   "metadata": {},
   "source": [
    "# Do...While Loop"
   ]
  },
  {
   "cell_type": "code",
   "execution_count": null,
   "metadata": {},
   "outputs": [],
   "source": [
    "let i = 0;\n",
    "\n",
    "do {\n",
    "    console.log(\"Do-while loop iteration: \" + i);\n",
    "    i++;\n",
    "} while (i < 5);"
   ]
  },
  {
   "cell_type": "markdown",
   "metadata": {},
   "source": [
    "There can be infinite loops in JavaScript. We should avoid them, as they can crash the program.\n",
    "Infinite loops usually occur when:\n",
    "\n",
    "- We forget to include an increment or decrement statement.\n",
    "\n",
    "- We use a condition like true without a break condition.\n",
    "\n",
    "- The loop condition never becomes false."
   ]
  },
  {
   "cell_type": "markdown",
   "metadata": {},
   "source": [
    "# For...In Loops\n",
    "\n",
    "The for...in loop is used to iterate over the enumerable properties of an `object` in JavaScript."
   ]
  },
  {
   "cell_type": "code",
   "execution_count": null,
   "metadata": {},
   "outputs": [],
   "source": [
    "const person = {\n",
    "    name: \"John\",\n",
    "    age: 30,\n",
    "};\n",
    "\n",
    "for (let key in person){\n",
    "    console.log(key, \" : \",  person[key]);\n",
    "// We can't use dot notation (person.key) because we don't know the property name ahead of time\n",
    "}"
   ]
  },
  {
   "cell_type": "markdown",
   "metadata": {},
   "source": [
    "for...in can also be used to iterate over arrays. However, it is *not a good practice*, because it may also iterate over inherited properties and the order is not guaranteed."
   ]
  },
  {
   "cell_type": "code",
   "execution_count": null,
   "metadata": {},
   "outputs": [],
   "source": [
    "const colors = [\"red\", \"green\", \"blue\"];\n",
    "\n",
    "for (let index in colors) {\n",
    "    console.log(index + \" : \" + colors[index]);\n",
    "}"
   ]
  },
  {
   "cell_type": "markdown",
   "metadata": {},
   "source": [
    "# For...Of Loops\n",
    "\n",
    "Since ES6, we have a better way to iterate over arrays using the `for...of` loop."
   ]
  },
  {
   "cell_type": "code",
   "execution_count": null,
   "metadata": {},
   "outputs": [],
   "source": [
    "const colors = [\"red\", \"green\", \"blue\"];\n",
    "\n",
    "for (const color of colors) {\n",
    "    console.log(color);\n",
    "}"
   ]
  },
  {
   "cell_type": "markdown",
   "metadata": {},
   "source": [
    "# Break and Continue"
   ]
  },
  {
   "cell_type": "code",
   "execution_count": null,
   "metadata": {},
   "outputs": [],
   "source": [
    "let i = 0;\n",
    "\n",
    "while (i < 10){\n",
    "    if (i === 5) {\n",
    "        console.log(\"Reached 5, breaking the loop.\");\n",
    "        break; // Exit the loop when i is 5\n",
    "    }\n",
    "    console.log(i);\n",
    "    i++;\n",
    "}"
   ]
  },
  {
   "cell_type": "code",
   "execution_count": null,
   "metadata": {},
   "outputs": [],
   "source": [
    "for ( let i = 0 ; i < 10 ; i++) {\n",
    "    if (i % 2 === 0) {\n",
    "        continue; // Skip even numbers\n",
    "    }\n",
    "    console.log(i + \" is odd, processing.\");\n",
    "}"
   ]
  }
 ],
 "metadata": {
  "kernelspec": {
   "display_name": "Deno",
   "language": "typescript",
   "name": "deno"
  },
  "language_info": {
   "codemirror_mode": "typescript",
   "file_extension": ".ts",
   "mimetype": "text/x.typescript",
   "name": "typescript",
   "nbconvert_exporter": "script",
   "pygments_lexer": "typescript",
   "version": "5.8.3"
  }
 },
 "nbformat": 4,
 "nbformat_minor": 2
}
