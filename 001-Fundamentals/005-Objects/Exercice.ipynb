{
 "cells": [
  {
   "cell_type": "markdown",
   "metadata": {},
   "source": [
    "### Excersise 1 - Address Object"
   ]
  },
  {
   "cell_type": "code",
   "execution_count": 1,
   "metadata": {},
   "outputs": [
    {
     "name": "stdout",
     "output_type": "stream",
     "text": [
      "street: 152\n",
      "city: New York\n",
      "zipCode: 10001\n"
     ]
    }
   ],
   "source": [
    "// street\n",
    "// city\n",
    "// zipCode\n",
    "// showAddress(address)\n",
    "\n",
    "let Address = {\n",
    "  street: \"152\",\n",
    "  city: \"New York\",\n",
    "  zipCode: \"10001\",\n",
    "};\n",
    "\n",
    "function showAddress(address){\n",
    "    for (let key in address) {\n",
    "        console.log(`${key}: ${address[key]}`);\n",
    "    }\n",
    "}\n",
    "\n",
    "showAddress(Address);"
   ]
  },
  {
   "cell_type": "markdown",
   "metadata": {},
   "source": [
    "### Excersise 2 - Factory and Constructor Function"
   ]
  },
  {
   "cell_type": "code",
   "execution_count": 2,
   "metadata": {},
   "outputs": [
    {
     "name": "stdout",
     "output_type": "stream",
     "text": [
      "{ street: \"123 Main St\", city: \"Los Angeles\", zipCode: \"90001\" }\n"
     ]
    }
   ],
   "source": [
    "// Factory Function\n",
    "\n",
    "function createAddress(street, city, zipCode) {\n",
    "    return {\n",
    "        street,\n",
    "        city,\n",
    "        zipCode\n",
    "    };\n",
    "}\n",
    "\n",
    "let address1 = createAddress(\"123 Main St\", \"Los Angeles\", \"90001\");\n",
    "console.log(address1);"
   ]
  },
  {
   "cell_type": "code",
   "execution_count": 3,
   "metadata": {},
   "outputs": [
    {
     "name": "stdout",
     "output_type": "stream",
     "text": [
      "AddressConstructor {\n",
      "  street: \"456 Elm St\",\n",
      "  city: \"Chicago\",\n",
      "  zipCode: \"60601\"\n",
      "}\n"
     ]
    }
   ],
   "source": [
    "// Constructor Function\n",
    "\n",
    "function AddressConstructor(street, city, zipCode) {\n",
    "    this.street = street;\n",
    "    this.city = city;\n",
    "    this.zipCode = zipCode;\n",
    "}\n",
    "\n",
    "let address2 = new AddressConstructor(\"456 Elm St\", \"Chicago\", \"60601\");    \n",
    "console.log(address2);"
   ]
  },
  {
   "cell_type": "markdown",
   "metadata": {},
   "source": [
    "### Excersise 3 - Object Equality"
   ]
  },
  {
   "cell_type": "code",
   "execution_count": 5,
   "metadata": {},
   "outputs": [
    {
     "name": "stdout",
     "output_type": "stream",
     "text": [
      "true\n",
      "false\n"
     ]
    }
   ],
   "source": [
    "function createAddressFunction(street, city, zipCode) {\n",
    "    this.street = street;\n",
    "    this.city = city;\n",
    "    this.zipCode = zipCode;\n",
    "}\n",
    "\n",
    "let address1 = new createAddressFunction('a', 'b', 'c')\n",
    "let address2 = new createAddressFunction('a', 'b', 'c')\n",
    "\n",
    "// check individual properties of two addresses\n",
    "function areEqual(address1, address2) {\n",
    "   return address1.street === address2.street &&\n",
    "            address1.city === address2.city &&\n",
    "            address1.zipCode === address2.zipCode;\n",
    "}\n",
    "\n",
    "// check whether two address are referencing the same object\n",
    "function areSame(address1, address2) {\n",
    "    return address1 === address2;\n",
    "}\n",
    "\n",
    "console.log(areEqual(address1, address2)); // true\n",
    "console.log(areSame(address1, address2)); // false"
   ]
  },
  {
   "cell_type": "markdown",
   "metadata": {},
   "source": [
    "### Excersise 4 - Blog Post Object"
   ]
  },
  {
   "cell_type": "code",
   "execution_count": 6,
   "metadata": {},
   "outputs": [
    {
     "name": "stdout",
     "output_type": "stream",
     "text": [
      "{\n",
      "  title: \"a\",\n",
      "  body: \"b\",\n",
      "  author: \"c\",\n",
      "  views: 10,\n",
      "  comments: [ { author: \"p\", body: \"q\" }, { author: \"r\", body: \"s\" } ],\n",
      "  isLive: true\n",
      "}\n"
     ]
    }
   ],
   "source": [
    "// title\n",
    "// body\n",
    "// author\n",
    "// views\n",
    "// comments - (author, body)\n",
    "// is Live\n",
    "\n",
    "let post = {\n",
    "    title: 'a',\n",
    "    body: 'b',\n",
    "    author : 'c',\n",
    "    views: 10,\n",
    "    comments: [\n",
    "        {author: 'p', body: `q`},\n",
    "        {author: 'r', body: `s`},\n",
    "    ],\n",
    "    isLive: true\n",
    "}\n",
    "\n",
    "\n",
    "console.log(post);"
   ]
  },
  {
   "cell_type": "markdown",
   "metadata": {},
   "source": [
    "### Excersise 5 - Constructor Function"
   ]
  },
  {
   "cell_type": "code",
   "execution_count": 7,
   "metadata": {},
   "outputs": [
    {
     "name": "stdout",
     "output_type": "stream",
     "text": [
      "Post {\n",
      "  title: \"a\",\n",
      "  body: \"b\",\n",
      "  author: \"c\",\n",
      "  views: 0,\n",
      "  comments: [],\n",
      "  isLive: false\n",
      "}\n"
     ]
    }
   ],
   "source": [
    "let post_1 = new Post('a', 'b', 'c');\n",
    "\n",
    "function Post(title, body, author){\n",
    "    this.title = title;\n",
    "    this.body = body;\n",
    "    this.author = author;\n",
    "    this.views = 0;\n",
    "    this.comments = [];\n",
    "    this.isLive = false;\n",
    "}\n",
    "\n",
    "console.log(post_1);"
   ]
  },
  {
   "cell_type": "markdown",
   "metadata": {},
   "source": [
    "### Excersise 6 - Price Range Objects"
   ]
  },
  {
   "cell_type": "code",
   "execution_count": null,
   "metadata": {},
   "outputs": [],
   "source": [
    "let priceRanges = [\n",
    "    { label: '$', tooltip: 'Inexpensive', minPerPerson: 0, maxPerPerson: 10 },\n",
    "    { label: '$$', tooltip: 'Moderate', minPerPerson: 11, maxPerPerson: 20 },\n",
    "    { label: '$$$', tooltip: 'Expensive', minPerPerson: 21, maxPerPerson: 50 },\n",
    "    { label: '$$$$', tooltip: 'Very Expensive', minPerPerson: 51, maxPerPerson: 100 }\n",
    "]\n",
    "\n",
    "let restaurants = [\n",
    "    {averagePerPerson: 5}\n",
    "]"
   ]
  }
 ],
 "metadata": {
  "kernelspec": {
   "display_name": "Deno",
   "language": "typescript",
   "name": "deno"
  },
  "language_info": {
   "codemirror_mode": "typescript",
   "file_extension": ".ts",
   "mimetype": "text/x.typescript",
   "name": "typescript",
   "nbconvert_exporter": "script",
   "pygments_lexer": "typescript",
   "version": "5.8.3"
  }
 },
 "nbformat": 4,
 "nbformat_minor": 2
}
