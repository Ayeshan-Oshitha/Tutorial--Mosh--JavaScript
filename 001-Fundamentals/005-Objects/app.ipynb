{
 "cells": [
  {
   "cell_type": "markdown",
   "metadata": {},
   "source": [
    "# Basics\n",
    "\n",
    "In JavaScript, an object is a data structure that allows you to store and organize related data and functionality as key-value pairs. Objects can contain various types of values, including variables (as properties), other nested objects, arrays, and functions (which are referred to as methods when defined inside an object). This flexibility makes objects a powerful way to represent complex data and behavior in a structured format."
   ]
  },
  {
   "cell_type": "code",
   "execution_count": null,
   "metadata": {},
   "outputs": [],
   "source": [
    "const circle = {\n",
    "    radius : 1,\n",
    "    location: {\n",
    "        x: 1,\n",
    "        y: 1\n",
    "    },\n",
    "    isVisible: true,\n",
    "\n",
    "    draw: function() {\n",
    "        console.log('draw');\n",
    "    }\n",
    "\n",
    "}"
   ]
  },
  {
   "cell_type": "markdown",
   "metadata": {},
   "source": [
    "# Factory Functions\n",
    "\n",
    "A factory function is a function that returns a new object.\n",
    "\n",
    "It allows you to create multiple similar objects without using classes."
   ]
  },
  {
   "cell_type": "code",
   "execution_count": 2,
   "metadata": {},
   "outputs": [
    {
     "name": "stdout",
     "output_type": "stream",
     "text": [
      "{ radius: 1, drawCircle: [Function: drawCircle] }\n",
      "1\n",
      "drawCircle\n"
     ]
    }
   ],
   "source": [
    "function createdCircle(radius) {\n",
    "    return {\n",
    "        // Shorthand for radius: radius\n",
    "        radius,\n",
    "\n",
    "        // ES6 Shorthand Method Syntax \n",
    "        drawCircle() {\n",
    "            console.log('drawCircle');\n",
    "        }\n",
    "    };\n",
    "}\n",
    "\n",
    "const circle1 = createdCircle(1);\n",
    "console.log(circle1);\n",
    "\n",
    "console.log(circle1.radius);\n",
    "circle1.drawCircle();"
   ]
  },
  {
   "cell_type": "markdown",
   "metadata": {},
   "source": [
    "*Shorthand syntax: If the key and the variable have the same name, you can omit the value (e.g., name instead of name: name).*\n",
    "\n",
    "Factory functions are especially useful when creating many similar objects that share the same structure and behavior. \n",
    "\n",
    "One of their biggest advantages is maintainability—if there's a bug or a change needed in the object's logic, you only need to fix it in one place (the factory function), rather than updating every individual object manually. This makes your code cleaner, easier to manage, and less error-prone."
   ]
  },
  {
   "cell_type": "markdown",
   "metadata": {},
   "source": [
    "# Constructor Functions\n",
    "\n",
    "A constructor function is a special type of function used to create and initialize objects in JavaScript. By convention, the name starts with a *capital letter*, and you use the `new` keyword to create an object from it."
   ]
  },
  {
   "cell_type": "code",
   "execution_count": 4,
   "metadata": {},
   "outputs": [
    {
     "name": "stdout",
     "output_type": "stream",
     "text": [
      "Circle { radius: 1, draw: [Function (anonymous)] }\n",
      "1\n",
      "draw\n"
     ]
    }
   ],
   "source": [
    "function Circle(radius) {\n",
    "    this.radius = radius;\n",
    "    this.draw = function() {\n",
    "        console.log('draw');\n",
    "    }\n",
    "}\n",
    "\n",
    "const circle = new Circle(1);\n",
    "console.log(circle);\n",
    "console.log(circle.radius);\n",
    "circle.draw();"
   ]
  },
  {
   "cell_type": "markdown",
   "metadata": {},
   "source": [
    "When we call a constructor function using the new keyword, three things happen behind the scenes:\n",
    "\n",
    "1. **A new empty object** is automatically created.\n",
    "\n",
    "2. The `this` keyword inside the constructor function is set to **refer to that new object**.\n",
    "\n",
    "3. The new object is **returned automatically** from the function."
   ]
  },
  {
   "cell_type": "markdown",
   "metadata": {},
   "source": [
    "####  Difference Between Factory Functions and Constructor Functions\n",
    "\n",
    "- In a factory function, we simply call a regular function, and it returns a new object explicitly.\n",
    "\n",
    "- In contrast, a constructor function is called using the new keyword, and instead of returning an object manually, we use the this keyword to assign properties. The object is created and returned automatically by JavaScript."
   ]
  },
  {
   "cell_type": "markdown",
   "metadata": {},
   "source": [
    "Constructor functions and factory functions are equally good for creating objects. Developers from Java or C# often prefer constructor functions because they’re more familiar."
   ]
  },
  {
   "cell_type": "markdown",
   "metadata": {},
   "source": [
    "# Dynamic Nature of Objects\n",
    "\n",
    "In JavaScript, objects are `dynamic`, which means that after creating them, we can add new properties or methods, or remove existing ones at any time."
   ]
  },
  {
   "cell_type": "code",
   "execution_count": 5,
   "metadata": {},
   "outputs": [
    {
     "name": "stdout",
     "output_type": "stream",
     "text": [
      "{ radius: 1 }\n",
      "-----\n",
      "{ radius: 1, color: \"red\", draw: [Function (anonymous)] }\n",
      "-----\n",
      "{ radius: 1, draw: [Function (anonymous)] }\n"
     ]
    }
   ],
   "source": [
    "const circle = {\n",
    "    radius : 1\n",
    "}\n",
    "\n",
    "console.log(circle);\n",
    "console.log(\"-----\")\n",
    "\n",
    "//  Modify\n",
    "circle.color = 'red';\n",
    "circle.draw = function() {\n",
    "    console.log('draw');\n",
    "}\n",
    "\n",
    "console.log(circle);\n",
    "console.log(\"-----\")\n",
    "\n",
    "//  Delete\n",
    "delete circle.color;\n",
    "console.log(circle);"
   ]
  },
  {
   "cell_type": "markdown",
   "metadata": {},
   "source": [
    "In this example, we declared the `circle` object using `const`. Although const means we *cannot reassign* the variable to a different object, it *does not prevent us from modifying* the contents of the object itself. That’s why we can add new properties (`color` and `draw`), or delete existing ones (`color`), even though `circle` was declared with `const`."
   ]
  },
  {
   "cell_type": "markdown",
   "metadata": {},
   "source": [
    "# Constructor Property\n",
    "\n",
    "In JavaScript, every object has a constructor property, which refers to the function that was used to create (construct) that object."
   ]
  },
  {
   "cell_type": "code",
   "execution_count": 7,
   "metadata": {},
   "outputs": [
    {
     "name": "stdout",
     "output_type": "stream",
     "text": [
      "[Function: Circle]\n"
     ]
    }
   ],
   "source": [
    "function Circle(radius) {\n",
    "    this.radius = radius;\n",
    "    this.draw = function() {\n",
    "        console.log('draw');\n",
    "    }\n",
    "}\n",
    "\n",
    "const c = new Circle(5);\n",
    "\n",
    "console.log(c.constructor)"
   ]
  },
  {
   "cell_type": "markdown",
   "metadata": {},
   "source": [
    "The output *[Function: Circle]* means that the constructor property of the object c points to the Circle function that created it."
   ]
  },
  {
   "cell_type": "markdown",
   "metadata": {},
   "source": [
    "# Functions are Objects\n",
    "\n",
    "In JavaScript, functions are objects, which means they can have properties and methods just like other objects. ( You can access and add properties to functions using dot notation, just as you do with regular objects ). This makes functions very flexible—they can be assigned to variables, passed as arguments, and returned from other functions."
   ]
  },
  {
   "cell_type": "code",
   "execution_count": null,
   "metadata": {},
   "outputs": [],
   "source": [
    "// Creating a constructor function using the Function constructor\n",
    "const NewCircle = new Function('radius', `\n",
    "    this.radius = radius;\n",
    "    this.draw = function() {\n",
    "        console.log('draw');\n",
    "    }`\n",
    ");\n",
    "\n",
    "// Creating an instance of NewCircle with radius = 1\n",
    "const circle2 = new NewCircle(1);\n",
    "\n",
    "// Using call to invoke(run) NewCircle with an empty object as 'this' and argument 4\n",
    "NewCircle.call({}, 4)\n",
    "// Using apply to invoke(run) NewCircle with an empty object as 'this' and argument 4 in an array\n",
    "NewCircle.apply({}, [4]);\n",
    "\n",
    "console.log(circle2);"
   ]
  }
 ],
 "metadata": {
  "kernelspec": {
   "display_name": "Deno",
   "language": "typescript",
   "name": "deno"
  },
  "language_info": {
   "codemirror_mode": "typescript",
   "file_extension": ".ts",
   "mimetype": "text/x.typescript",
   "name": "typescript",
   "nbconvert_exporter": "script",
   "pygments_lexer": "typescript",
   "version": "5.8.3"
  }
 },
 "nbformat": 4,
 "nbformat_minor": 2
}
