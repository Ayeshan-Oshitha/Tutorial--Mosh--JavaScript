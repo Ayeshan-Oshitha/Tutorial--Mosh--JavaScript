{
 "cells": [
  {
   "cell_type": "markdown",
   "metadata": {},
   "source": [
    "# Basics\n",
    "\n",
    "In JavaScript, an object is a data structure that allows you to store and organize related data and functionality as `key-value pairs`. Objects can contain various types of values, including variables (as properties), other nested objects, arrays, and functions (which are referred to as methods when defined inside an object). This flexibility makes objects a powerful way to represent complex data and behavior in a structured format."
   ]
  },
  {
   "cell_type": "code",
   "execution_count": null,
   "metadata": {},
   "outputs": [],
   "source": [
    "const circle = {\n",
    "    radius : 1,\n",
    "    location: {\n",
    "        x: 1,\n",
    "        y: 1\n",
    "    },\n",
    "    isVisible: true,\n",
    "\n",
    "    draw: function() {\n",
    "        console.log('draw');\n",
    "    }\n",
    "\n",
    "}"
   ]
  },
  {
   "cell_type": "markdown",
   "metadata": {},
   "source": [
    "# Factory Functions\n",
    "\n",
    "A factory function is a function that returns a new object.\n",
    "\n",
    "It allows you to create multiple similar objects without using classes."
   ]
  },
  {
   "cell_type": "code",
   "execution_count": null,
   "metadata": {},
   "outputs": [
    {
     "name": "stdout",
     "output_type": "stream",
     "text": [
      "{ radius: 1, drawCircle: [Function: drawCircle] }\n",
      "1\n",
      "drawCircle\n"
     ]
    }
   ],
   "source": [
    "function createdCircle(radius) {\n",
    "    return {\n",
    "        // Shorthand for radius: radius\n",
    "        radius,\n",
    "\n",
    "        // ES6 Shorthand Method Syntax \n",
    "        drawCircle() {\n",
    "            console.log('drawCircle');\n",
    "        }\n",
    "    };\n",
    "}\n",
    "\n",
    "// Creating an instance of the circle object\n",
    "const circle1 = createdCircle(1);\n",
    "console.log(circle1);\n",
    "\n",
    "console.log(circle1.radius);\n",
    "circle1.drawCircle();"
   ]
  },
  {
   "cell_type": "markdown",
   "metadata": {},
   "source": [
    "*Shorthand syntax: If the key and the variable have the same name, you can omit the value (e.g., `name instead of name: name`).*\n",
    "\n",
    "Factory functions are especially useful when creating many similar objects that share the same structure and behavior. \n",
    "\n",
    "One of their biggest advantages is maintainability—if there's a bug or a change needed in the object's logic, you only need to fix it in one place (the factory function), rather than updating every individual object manually. This makes your code cleaner, easier to manage, and less error-prone."
   ]
  },
  {
   "cell_type": "markdown",
   "metadata": {},
   "source": [
    "# Constructor Functions\n",
    "\n",
    "A constructor function is a special type of function used to create and initialize objects in JavaScript. By convention, the name starts with a *capital letter*, and you use the `new` keyword to create an object from it."
   ]
  },
  {
   "cell_type": "code",
   "execution_count": null,
   "metadata": {},
   "outputs": [
    {
     "name": "stdout",
     "output_type": "stream",
     "text": [
      "Circle { radius: 1, draw: [Function (anonymous)] }\n",
      "1\n",
      "draw\n"
     ]
    }
   ],
   "source": [
    "function Circle(radius) {\n",
    "    this.radius = radius;\n",
    "    this.draw = function() {\n",
    "        console.log('draw');\n",
    "    }\n",
    "}\n",
    "\n",
    "// Creating an instance of the Circle constructor function\n",
    "const circle = new Circle(1);\n",
    "console.log(circle);\n",
    "console.log(circle.radius);\n",
    "circle.draw();"
   ]
  },
  {
   "cell_type": "markdown",
   "metadata": {},
   "source": [
    "When we call a constructor function using the new keyword, three things happen behind the scenes:\n",
    "\n",
    "1. **A new empty object** is automatically created.\n",
    "\n",
    "2. The `this` keyword inside the constructor function is set to **refer to that new object**.\n",
    "\n",
    "3. The new object is **returned automatically** from the function."
   ]
  },
  {
   "cell_type": "markdown",
   "metadata": {},
   "source": [
    "####  Difference Between Factory Functions and Constructor Functions\n",
    "\n",
    "- In a factory function, we simply call a regular function, and it returns a new object explicitly.\n",
    "\n",
    "- In contrast, a constructor function is called using the `new` keyword, and instead of returning an object manually, we use the `this` keyword to assign properties. The object is created and returned automatically by JavaScript."
   ]
  },
  {
   "cell_type": "markdown",
   "metadata": {},
   "source": [
    "Constructor functions and factory functions are equally good for creating objects. Developers from Java or C# often prefer constructor functions because they’re more familiar."
   ]
  },
  {
   "cell_type": "markdown",
   "metadata": {},
   "source": [
    "# Dynamic Nature of Objects\n",
    "\n",
    "In JavaScript, objects are `dynamic`, which means that after creating them, we can add new properties or methods, or remove existing ones at any time."
   ]
  },
  {
   "cell_type": "code",
   "execution_count": 5,
   "metadata": {},
   "outputs": [
    {
     "name": "stdout",
     "output_type": "stream",
     "text": [
      "{ radius: 1 }\n",
      "-----\n",
      "{ radius: 1, color: \"red\", draw: [Function (anonymous)] }\n",
      "-----\n",
      "{ radius: 1, draw: [Function (anonymous)] }\n"
     ]
    }
   ],
   "source": [
    "const circle = {\n",
    "    radius : 1\n",
    "}\n",
    "\n",
    "console.log(circle);\n",
    "console.log(\"-----\")\n",
    "\n",
    "//  Modify\n",
    "circle.color = 'red';\n",
    "circle.draw = function() {\n",
    "    console.log('draw');\n",
    "}\n",
    "\n",
    "console.log(circle);\n",
    "console.log(\"-----\")\n",
    "\n",
    "//  Delete\n",
    "delete circle.color;\n",
    "console.log(circle);"
   ]
  },
  {
   "cell_type": "markdown",
   "metadata": {},
   "source": [
    "In this example, we declared the `circle` object using `const`. Although const means we *cannot reassign* the variable to a different object, it *does not prevent us from modifying* the contents of the object itself. That’s why we can add new properties (`color` and `draw`), or delete existing ones (`color`), even though `circle` was declared with `const`."
   ]
  },
  {
   "cell_type": "markdown",
   "metadata": {},
   "source": [
    "# Constructor Property\n",
    "\n",
    "In JavaScript, every object has a constructor property, which refers to the function that was used to create (construct) that object."
   ]
  },
  {
   "cell_type": "code",
   "execution_count": 7,
   "metadata": {},
   "outputs": [
    {
     "name": "stdout",
     "output_type": "stream",
     "text": [
      "[Function: Circle]\n"
     ]
    }
   ],
   "source": [
    "function Circle(radius) {\n",
    "    this.radius = radius;\n",
    "    this.draw = function() {\n",
    "        console.log('draw');\n",
    "    }\n",
    "}\n",
    "\n",
    "const c = new Circle(5);\n",
    "\n",
    "console.log(c.constructor)"
   ]
  },
  {
   "cell_type": "markdown",
   "metadata": {},
   "source": [
    "The output *[Function: Circle]* means that the constructor property of the object c points to the Circle function that created it."
   ]
  },
  {
   "cell_type": "markdown",
   "metadata": {},
   "source": [
    "# Functions are Objects\n",
    "\n",
    "In JavaScript, **functions are objects**, which means they can have properties and methods just like other objects. ( You can access and add properties to functions using dot notation, just as you do with regular objects ). This makes functions very flexible—they can be assigned to variables, passed as arguments, and returned from other functions."
   ]
  },
  {
   "cell_type": "code",
   "execution_count": null,
   "metadata": {},
   "outputs": [],
   "source": [
    "// Creating a constructor function using the Function constructor\n",
    "const NewCircle = new Function('radius', `\n",
    "    this.radius = radius;\n",
    "    this.draw = function() {\n",
    "        console.log('draw');\n",
    "    }`\n",
    ");\n",
    "\n",
    "// Creating an instance of NewCircle with radius = 1\n",
    "const circle2 = new NewCircle(1);\n",
    "\n",
    "// Using call to invoke(run) NewCircle with an empty object as 'this' and argument 4\n",
    "NewCircle.call({}, 4)\n",
    "// Using apply to invoke(run) NewCircle with an empty object as 'this' and argument 4 in an array\n",
    "NewCircle.apply({}, [4]);\n",
    "\n",
    "console.log(circle2);"
   ]
  },
  {
   "cell_type": "markdown",
   "metadata": {},
   "source": [
    "# Value Types vs Reference Types\n",
    "\n",
    "#### Value Types\n",
    "\n",
    "- Number\n",
    "- String\n",
    "- Boolean\n",
    "- Symbol ( New in ES6 )\n",
    "- undefined\n",
    "- null\n",
    "\n",
    "#### Reference Types\n",
    "\n",
    "- Object\n",
    "- Function\n",
    "- Array"
   ]
  },
  {
   "cell_type": "code",
   "execution_count": 2,
   "metadata": {},
   "outputs": [
    {
     "name": "stdout",
     "output_type": "stream",
     "text": [
      "20\n",
      "10\n"
     ]
    }
   ],
   "source": [
    "let x = 10\n",
    "let y = x;\n",
    "\n",
    "x = 20;\n",
    "console.log(x); // 20\n",
    "console.log(y); // 10"
   ]
  },
  {
   "cell_type": "markdown",
   "metadata": {},
   "source": [
    "In this example, `x` and `y` are **primitive data types** (specifically, numbers). When we assign the value of `x` to `y`, it **copies the value** — not the reference. So, `y` gets a separate copy of the value `10`.\n",
    "\n",
    "After that, when we change the value of `x` to `20`, it does **not** affect `y`, because `y` is **independent** and still holds the original value (`10`).\n",
    "\n",
    "This behavior is specific to **primitive types** in JavaScript (like numbers, strings, booleans, etc.), which are always **copied by value**, not by reference."
   ]
  },
  {
   "cell_type": "code",
   "execution_count": 3,
   "metadata": {},
   "outputs": [
    {
     "name": "stdout",
     "output_type": "stream",
     "text": [
      "20\n",
      "20\n"
     ]
    }
   ],
   "source": [
    "let x = { value: 10 };\n",
    "let y = x;\n",
    "\n",
    "x.value = 20;\n",
    "console.log(x.value); // 20\n",
    "console.log(y.value); // 20"
   ]
  },
  {
   "attachments": {
    "image.png": {
     "image/png": "[encoded data removed]"
    }
   },
   "cell_type": "markdown",
   "metadata": {},
   "source": [
    "In this example, `x` is assigned an **object**, which is a **reference type** in JavaScript. When we assign `x` to `y`, we are not copying the object itself — we are copying the **reference** (i.e., the memory address) that points to the object.\n",
    "\n",
    "So now, **both `x` and `y` point to the same object in memory**. When we update `x.value` to `20`, the change is reflected in `y` as well, because they refer to the **same object.**\n",
    "\n",
    "![image.png](attachment:image.png)"
   ]
  },
  {
   "cell_type": "markdown",
   "metadata": {},
   "source": [
    "**The key difference between primitive types and reference types is that `primitive types are copied by value`, while `objects (which are reference types) are copied by reference`.**"
   ]
  },
  {
   "cell_type": "markdown",
   "metadata": {},
   "source": [
    "#### Example"
   ]
  },
  {
   "cell_type": "code",
   "execution_count": 4,
   "metadata": {},
   "outputs": [
    {
     "name": "stdout",
     "output_type": "stream",
     "text": [
      "10\n"
     ]
    }
   ],
   "source": [
    "let number = 10;\n",
    "\n",
    "function increase(number) {\n",
    "    number++;\n",
    "}\n",
    "\n",
    "increase(number);\n",
    "console.log(number); // 10"
   ]
  },
  {
   "cell_type": "markdown",
   "metadata": {},
   "source": [
    "In this example, `number` is a **primitive type** (a number). When you pass it into the `increase` function, JavaScript **copies its value** — not the original variable itself.\n",
    "\n",
    "So inside the `increase` function, you're only modifying a **local copy** of the `number`. The original number variable outside the function remains unchanged (Any changes made inside the function do not affect the original variable.).\n",
    "\n",
    "That's why, after calling `increase(number)`, the value of `number` is still `10`."
   ]
  },
  {
   "cell_type": "code",
   "execution_count": 5,
   "metadata": {},
   "outputs": [
    {
     "name": "stdout",
     "output_type": "stream",
     "text": [
      "11\n"
     ]
    }
   ],
   "source": [
    "let object = { value: 10 };\n",
    "\n",
    "function increase(object) {\n",
    "    object.value++;\n",
    "}\n",
    "\n",
    "increase(object);\n",
    "console.log(object.value); // 11"
   ]
  },
  {
   "cell_type": "markdown",
   "metadata": {},
   "source": [
    "In this example, `object` is a **reference type** (an object). When you pass it into the `increase` function, JavaScript **passes the reference**, not a separate copy of the object.\n",
    "\n",
    "That means both the original `object` and the parameter inside the function point to the **same object in memory**. So when you modify `object.value` inside the function, it directly affects the original object."
   ]
  },
  {
   "cell_type": "markdown",
   "metadata": {},
   "source": [
    "# Enumerating Properties of an Object"
   ]
  },
  {
   "cell_type": "code",
   "execution_count": 6,
   "metadata": {},
   "outputs": [
    {
     "name": "stdout",
     "output_type": "stream",
     "text": [
      "radius 1\n",
      "draw [Function: draw]\n"
     ]
    }
   ],
   "source": [
    "const circle = {\n",
    "    radius : 1,\n",
    "    draw: function() {\n",
    "        console.log('draw');\n",
    "    }\n",
    "}\n",
    "\n",
    "for (let key in circle) {\n",
    "    console.log(key, circle[key]);\n",
    "}"
   ]
  },
  {
   "cell_type": "code",
   "execution_count": 7,
   "metadata": {},
   "outputs": [
    {
     "ename": "TypeError",
     "evalue": "circle is not iterable",
     "output_type": "error",
     "traceback": [
      "Stack trace:",
      "TypeError: circle is not iterable",
      "    at <anonymous>:1:38"
     ]
    }
   ],
   "source": [
    "for (let key of circle) {\n",
    "    // This will throw an error because circle is not iterable\n",
    "    console.log(key);\n",
    "}"
   ]
  },
  {
   "cell_type": "markdown",
   "metadata": {},
   "source": [
    "In JavaScript, the `for...of` loop can only be used with **iterable objects**, such as arrays, strings, maps, and sets. However, **plain objects** (created using object literal syntax like `{}`) are not iterable, so using `for...of `directly on them will throw an error. \n",
    "\n",
    "\n",
    "To iterate over a regular object’s properties, JavaScript provides built-in methods like `Object.keys()` and `Object.entries().`\n",
    "\n",
    "The `Object.keys()` method returns an array of the object's own property names as strings, allowing you to loop through just the keys."
   ]
  },
  {
   "cell_type": "code",
   "execution_count": 8,
   "metadata": {},
   "outputs": [
    {
     "name": "stdout",
     "output_type": "stream",
     "text": [
      "radius 1\n",
      "draw [Function: draw]\n"
     ]
    }
   ],
   "source": [
    "for (let key of Object.keys(circle)) {\n",
    "    console.log(key, circle[key]);\n",
    "}"
   ]
  },
  {
   "cell_type": "markdown",
   "metadata": {},
   "source": [
    " On the other hand, `Object.entries()` returns an array of `[key, value]` pairs, making it easy to access both keys and their corresponding values inside the loop."
   ]
  },
  {
   "cell_type": "code",
   "execution_count": 9,
   "metadata": {},
   "outputs": [
    {
     "name": "stdout",
     "output_type": "stream",
     "text": [
      "[ \"radius\", 1 ]\n",
      "[ \"draw\", [Function: draw] ]\n"
     ]
    }
   ],
   "source": [
    "for (let entry of Object.entries(circle)) {\n",
    "    console.log(entry);\n",
    "}"
   ]
  },
  {
   "cell_type": "markdown",
   "metadata": {},
   "source": [
    "#### Important (for deep understanding) - \n",
    "\n",
    "`Object` is a built-in constructor function in JavaScript. Whenever you create an object using the object literal syntax (e.g., `{}`), JavaScript internally converts it into a call to this constructor function.\n",
    "\n",
    "```javascript\n",
    "let obj = {};          // Object literal syntax\n",
    "// is internally similar to:\n",
    "let obj = new Object(); // Using the Object constructor\n",
    "```"
   ]
  },
  {
   "cell_type": "markdown",
   "metadata": {},
   "source": [
    "If we want to check whether an object has a specific property or method, we can use the **`in`** keyword."
   ]
  },
  {
   "cell_type": "code",
   "execution_count": 10,
   "metadata": {},
   "outputs": [
    {
     "name": "stdout",
     "output_type": "stream",
     "text": [
      "true\n",
      "false\n"
     ]
    }
   ],
   "source": [
    "let person = {\n",
    "    name: 'John',\n",
    "    age: 30,\n",
    "    job: 'Developer'\n",
    "}\n",
    "\n",
    "console.log(\"name\" in person); // true\n",
    "console.log(\"salary\" in person); // false"
   ]
  },
  {
   "cell_type": "markdown",
   "metadata": {},
   "source": [
    "# Cloning and Object"
   ]
  },
  {
   "cell_type": "markdown",
   "metadata": {},
   "source": [
    "Using the `for...in` loop (which is used for **enumerating** object properties), we can **copy properties from one object to another** — this is a simple way to clone an object."
   ]
  },
  {
   "cell_type": "code",
   "execution_count": 11,
   "metadata": {},
   "outputs": [
    {
     "name": "stdout",
     "output_type": "stream",
     "text": [
      "{ radius: 1, draw: [Function: draw] }\n"
     ]
    }
   ],
   "source": [
    "const circle = {\n",
    "    radius: 1,\n",
    "    draw() {\n",
    "        console.log('draw');\n",
    "    }\n",
    "}\n",
    "\n",
    "const another = {}\n",
    "\n",
    "for (let key in circle) {\n",
    "    another[key] = circle[key];\n",
    "}\n",
    "\n",
    "console.log(another); // { radius: 1, draw: [Function: draw] }"
   ]
  },
  {
   "cell_type": "markdown",
   "metadata": {},
   "source": [
    " In modern JavaScript, there are simpler and cleaner ways to do this.\n",
    "\n",
    " #### 1. Object.assign()\n",
    "\n",
    " You can use the `Object.assign()` method to copy properties from one or more source objects into a target object. The target can be a new or existing object."
   ]
  },
  {
   "cell_type": "code",
   "execution_count": 12,
   "metadata": {},
   "outputs": [
    {
     "name": "stdout",
     "output_type": "stream",
     "text": [
      "{ radius: 1, draw: [Function: draw] }\n"
     ]
    }
   ],
   "source": [
    "const circle = {\n",
    "    radius: 1,\n",
    "    draw() {\n",
    "        console.log('draw');\n",
    "    }\n",
    "}\n",
    "\n",
    "const another = Object.assign({}, circle);\n",
    "\n",
    "console.log(another); "
   ]
  },
  {
   "cell_type": "markdown",
   "metadata": {},
   "source": [
    "#### 2. Spread Operator (...)\n",
    "\n",
    "The spread operator is a modern and more concise way to clone or merge objects."
   ]
  },
  {
   "cell_type": "code",
   "execution_count": 14,
   "metadata": {},
   "outputs": [
    {
     "name": "stdout",
     "output_type": "stream",
     "text": [
      "{ radius: 1, draw: [Function: draw] }\n"
     ]
    }
   ],
   "source": [
    "const circle = {\n",
    "    radius: 1,\n",
    "    draw() {\n",
    "        console.log('draw');\n",
    "    }\n",
    "}\n",
    "\n",
    "const another = { ...circle };\n",
    "\n",
    "console.log(another); "
   ]
  },
  {
   "cell_type": "markdown",
   "metadata": {},
   "source": [
    "# Garbage Collection\n",
    "\n",
    "In low-level languages like C or C++, when we create an object, we need to **manually allocate memory** using functions like `malloc` or the `new` keyword, and then **manually deallocate** it using `free` or `delete` when it's no longer needed. If we forget to do this, it can lead to memory leaks.\n",
    "\n",
    "However, in JavaScript, we **don’t need to manually manage memory**. JavaScript has a built-in feature called a **garbage collector**, which automatically allocates memory when needed and frees it when the data is no longer used. This makes memory management much easier for developers."
   ]
  },
  {
   "cell_type": "markdown",
   "metadata": {},
   "source": [
    "# Math\n",
    "\n",
    "Math is a built-in object in JavaScript that provides various mathematical functions and constants."
   ]
  },
  {
   "cell_type": "code",
   "execution_count": 18,
   "metadata": {},
   "outputs": [
    {
     "name": "stdout",
     "output_type": "stream",
     "text": [
      "0.5105686140538903\n",
      "3\n"
     ]
    }
   ],
   "source": [
    "console.log(Math.random())\n",
    "\n",
    "console.log(Math.round(2.9)); "
   ]
  },
  {
   "cell_type": "markdown",
   "metadata": {},
   "source": [
    "# String\n",
    "\n",
    "String is a built-in object in JavaScript, but earlier we said that strings are primitive types — and that's also true.\n",
    "\n",
    "JavaScript actually has two types of strings:\n",
    "\n",
    "1. Primitive strings – created using string literals like \"hello\" or 'world'\n",
    "\n",
    "2. String objects – created using the String constructor, like new String(\"hello\")"
   ]
  },
  {
   "cell_type": "code",
   "execution_count": 20,
   "metadata": {},
   "outputs": [
    {
     "name": "stdout",
     "output_type": "stream",
     "text": [
      "type of message :  string\n",
      "type of anotherMessage :  object\n"
     ]
    }
   ],
   "source": [
    "// String Primitives\n",
    "const message = 'This is my first message';\n",
    "console.log(\"type of message : \", typeof(message)); \n",
    "\n",
    "// String Object\n",
    "const anotherMessage = new String('This is my first message');\n",
    "console.log(\"type of anotherMessage : \", typeof(anotherMessage));"
   ]
  },
  {
   "cell_type": "markdown",
   "metadata": {},
   "source": [
    "Although primitive strings are not objects, JavaScript *automatically wraps* them with `String` objects when you try to access properties or methods. This is why you can call string methods (like `.length` or `.toUpperCase()`) on a primitive string."
   ]
  },
  {
   "cell_type": "code",
   "execution_count": 21,
   "metadata": {},
   "outputs": [
    {
     "name": "stdout",
     "output_type": "stream",
     "text": [
      "Length of sentence: 11\n",
      "First character: H\n",
      "Uppercase version: HELLO WORLD\n",
      "Lowercase version: hello world\n",
      "Index of 'World': 6\n",
      "Does it include 'wi'? false\n"
     ]
    }
   ],
   "source": [
    "const sentence = \"Hello World\";\n",
    "\n",
    "console.log(\"Length of sentence:\", sentence.length);               \n",
    "console.log(\"First character:\", sentence[0]);                      \n",
    "console.log(\"Uppercase version:\", sentence.toUpperCase());        \n",
    "console.log(\"Lowercase version:\", sentence.toLowerCase());         \n",
    "console.log(\"Index of 'World':\", sentence.indexOf('World'));       \n",
    "console.log(\"Does it include 'wi'?\", sentence.includes(\"wi\"));    "
   ]
  },
  {
   "cell_type": "markdown",
   "metadata": {},
   "source": [
    "#### Escape Notation\n",
    "\n",
    "`\\'` - single quote\n",
    "\n",
    "`\\\"` - double quote\n",
    "\n",
    "`\\\\` - backslash\n",
    "\n",
    "`\\n` - new line\n",
    "\n",
    "`\\r` - carriage return"
   ]
  },
  {
   "cell_type": "markdown",
   "metadata": {},
   "source": [
    "# Template Literal\n",
    "\n",
    "Template literals help us to create strings in a more readable and flexible way in JavaScript. They allow us to:\n",
    "- Embed variables and expressions using ${...}\n",
    "- Write multi-line strings without using \\n\n",
    "- Include special characters easily"
   ]
  },
  {
   "cell_type": "code",
   "execution_count": 25,
   "metadata": {},
   "outputs": [
    {
     "name": "stdout",
     "output_type": "stream",
     "text": [
      "This is my\n",
      "first @ message\n"
     ]
    }
   ],
   "source": [
    "const value = \"first\"\n",
    "\n",
    "const message = \n",
    "`This is my\n",
    "${value} @ message`;\n",
    "\n",
    "console.log(message);"
   ]
  },
  {
   "cell_type": "markdown",
   "metadata": {},
   "source": [
    "# Dates"
   ]
  },
  {
   "cell_type": "code",
   "execution_count": 30,
   "metadata": {},
   "outputs": [
    {
     "name": "stdout",
     "output_type": "stream",
     "text": [
      "2025-05-31T12:00:55.792Z\n",
      "Sat May 31 2025 17:30:55 GMT+0530 (India Standard Time)\n",
      "5\n",
      "2025-05-31T12:00:55.792Z\n"
     ]
    }
   ],
   "source": [
    "const date = new Date();\n",
    "console.log(date);\n",
    "\n",
    "console.log(date.toString()); // Converts to string\n",
    "console.log(date.getMonth() + 1); // Gets the current month (0-11, so +1 to get 1-12)\n",
    "\n",
    "date.setMinutes(30); // Sets the minutes to 30\n",
    "console.log(date); // Gets the current minutes"
   ]
  }
 ],
 "metadata": {
  "kernelspec": {
   "display_name": "Deno",
   "language": "typescript",
   "name": "deno"
  },
  "language_info": {
   "codemirror_mode": "typescript",
   "file_extension": ".ts",
   "mimetype": "text/x.typescript",
   "name": "typescript",
   "nbconvert_exporter": "script",
   "pygments_lexer": "typescript",
   "version": "5.8.3"
  }
 },
 "nbformat": 4,
 "nbformat_minor": 2
}
