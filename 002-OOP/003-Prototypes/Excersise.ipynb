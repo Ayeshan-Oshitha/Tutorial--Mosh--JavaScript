{
 "cells": [
  {
   "cell_type": "markdown",
   "metadata": {},
   "source": [
    "### Excersise"
   ]
  },
  {
   "cell_type": "code",
   "execution_count": null,
   "metadata": {},
   "outputs": [],
   "source": [
    "function MoshStopWatch() {\n",
    "\n",
    "    let startTime, endTime, running, duration = 0;\n",
    "    \n",
    "    Object.defineProperty(this, 'duration', {\n",
    "        get: function(){\n",
    "            return duration;\n",
    "        },\n",
    "        set: function(value){\n",
    "            duration = value;\n",
    "        }\n",
    "\n",
    "    })\n",
    "\n",
    "    Object.defineProperty(this, 'startTime', {\n",
    "        get: function(){\n",
    "            return startTime;\n",
    "        }\n",
    "    })\n",
    "\n",
    "    Object.defineProperty(this, 'endTime', {\n",
    "        get: function(){\n",
    "            return endTime;\n",
    "        }\n",
    "    })\n",
    "\n",
    "    Object.defineProperty(this, 'running', {\n",
    "        get: function(){\n",
    "            return running;\n",
    "        }\n",
    "    })\n",
    "}\n",
    "\n",
    "MoshStopWatch.prototype.start = function() {\n",
    "    if(this.running) {\n",
    "        throw new Error(\"Stopwatch has already started\");\n",
    "    }\n",
    "    this.running = true;\n",
    "    this.startTime = new Date();\n",
    "}\n",
    "\n",
    "\n",
    "MoshStopWatch.prototype.stop = function() {\n",
    "    if(!this.running){\n",
    "        throw new Error(\"Stopwatch is not started \");\n",
    "    }\n",
    "    this.running = false;\n",
    "    this.endTime = new Date();\n",
    "\n",
    "    const seconds = (endTime.getTime() - startTime.getTime()) / 1000;\n",
    "    duration += seconds;\n",
    "}\n",
    "\n",
    "\n",
    "MoshStopWatch.prototype.reset = function() {\n",
    "    this.startTime = null;\n",
    "    this.endTime = null;\n",
    "    this.running = false;\n",
    "    duration = 0;\n",
    "}\n"
   ]
  },
  {
   "cell_type": "markdown",
   "metadata": {},
   "source": [
    "Now This has become a bad implementation. Because duration can be access from the outside. ( This is against the abstraction principle )"
   ]
  },
  {
   "cell_type": "code",
   "execution_count": null,
   "metadata": {},
   "outputs": [],
   "source": [
    "const stopwatch = new MoshStopWatch();\n",
    "stopwatch.duration = 125 ;"
   ]
  }
 ],
 "metadata": {
  "kernelspec": {
   "display_name": "Deno",
   "language": "typescript",
   "name": "deno"
  },
  "language_info": {
   "name": "typescript"
  }
 },
 "nbformat": 4,
 "nbformat_minor": 2
}
