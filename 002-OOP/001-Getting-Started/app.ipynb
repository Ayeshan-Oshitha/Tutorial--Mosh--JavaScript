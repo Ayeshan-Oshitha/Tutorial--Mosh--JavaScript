{
 "cells": [
  {
   "cell_type": "markdown",
   "metadata": {},
   "source": [
    "# What is OOP ?\n",
    "\n",
    "Object Oriented Programming is a programming `paradigm` or a style of programming that is centerted around the `object` rather than functions.\n",
    "\n",
    "There are several programming languages out there that supports the OOp such as C#, Java, Ruby, Python, Javascript and more. But Javascript is a little bit controversial. (Will discuss this in later)\n",
    "\n",
    "Many of the popular frameworks out there are actually designed with OOP ( ex -: Angular)"
   ]
  },
  {
   "cell_type": "markdown",
   "metadata": {},
   "source": [
    "# 4 Pillars of Object-oriented Programming\n",
    "\n",
    "- Encapsulation\n",
    "- Abstraction\n",
    "- Inheritance\n",
    "- Polymorphism\n",
    "\n",
    "\n",
    "Before Object-Oriented Programming (OOP), we used Procedural Programming. In this approach, a program is divided into a set of functions. Data is stored in separate variables, and functions operate on that data. This style of programming is simple and straightforward for small programs.\n",
    "\n",
    "However, as the program grows, it becomes more complex. Changing one function can unintentionally affect several other functions, creating a lot of dependencies and making the code hard to manage.\n",
    "\n",
    "OOP solves this problem by grouping related variables and functions into a single unit called an object. The variables inside an object are known as properties, and the functions are called methods. This structure helps organize code better and reduces dependencies between different parts of the program.\n",
    "\n",
    "Using `**encapsulation**`, we group related variables and functions together into a single unit (an object). This helps reduce complexity and makes it easier to reuse code in different parts of the program.\n",
    "\n",
    "With `**abstraction**`, we hide unnecessary details and show only the essential features of an object. This not only reduces complexity but also isolates the impact of changes, making the code easier to maintain.\n",
    "\n",
    "`**Inheritance**` allows us to eliminate redundant code by enabling one class to inherit properties and methods from another. \n",
    "\n",
    "Finally, `**polymorphism**` helps us simplify complex switch or if-else statements by allowing different objects to be treated through a common interface, improving code readability and flexibility."
   ]
  },
  {
   "cell_type": "markdown",
   "metadata": {},
   "source": [
    "### Extra -\n",
    "\n",
    "Starting from ES6, JavaScript introduced new features—one of them is *classes*. But the classes we have in JavaScript are not the same as the ones in Java or C#, because JavaScript is a dynamically typed language. So, classes in JavaScript are essentially syntactic sugar over prototypes and prototypical inheritance. (This means that while classes provide a cleaner and more familiar syntax, they still use JavaScript’s underlying prototype system to handle inheritance and object behavior.)"
   ]
  }
 ],
 "metadata": {
  "language_info": {
   "name": "python"
  }
 },
 "nbformat": 4,
 "nbformat_minor": 2
}
