{
 "cells": [
  {
   "cell_type": "markdown",
   "metadata": {},
   "source": [
    "### Excersise 01 - Prototypical Inheritance"
   ]
  },
  {
   "cell_type": "code",
   "execution_count": null,
   "metadata": {},
   "outputs": [],
   "source": [
    "function HTMLElement() {\n",
    "    this.click = function () {\n",
    "      console.log(\"Element clicked\");\n",
    "    };\n",
    "  }\n",
    "  \n",
    "  HTMLElement.prototype.focus = function () {\n",
    "    console.log(\"focused\");\n",
    "  };\n",
    "  \n",
    "  function HTMLSelectElement(items = []) {\n",
    "    this.items = items;\n",
    "  \n",
    "    this.addItem = function (item) {\n",
    "      this.items.push(item);\n",
    "    };\n",
    "  \n",
    "    this.removeItem = function (item) {\n",
    "      this.items.splice(this.items.indexOf(item), 1);\n",
    "    };\n",
    "  }\n",
    "  \n",
    "  HTMLSelectElement.prototype = new HTMLElement();\n",
    "  HTMLSelectElement.prototype.constructor = HTMLSelectElement;"
   ]
  },
  {
   "cell_type": "code",
   "execution_count": null,
   "metadata": {},
   "outputs": [],
   "source": []
  }
 ],
 "metadata": {
  "kernelspec": {
   "display_name": "Deno",
   "language": "typescript",
   "name": "deno"
  },
  "language_info": {
   "name": "typescript"
  }
 },
 "nbformat": 4,
 "nbformat_minor": 2
}
