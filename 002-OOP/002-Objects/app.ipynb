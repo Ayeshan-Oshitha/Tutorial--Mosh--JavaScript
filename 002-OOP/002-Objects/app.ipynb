{
 "cells": [
  {
   "cell_type": "markdown",
   "metadata": {},
   "source": [
    "# Introduction\n",
    "\n",
    "Refer `Objects` section in `Fundamentals` part for more details."
   ]
  },
  {
   "cell_type": "markdown",
   "metadata": {},
   "source": [
    "# Object Literals"
   ]
  },
  {
   "cell_type": "code",
   "execution_count": 2,
   "metadata": {},
   "outputs": [
    {
     "name": "stdout",
     "output_type": "stream",
     "text": [
      "{ radius: 1, location: { x: 1, y: 1 }, draw: [Function: draw] }\n",
      "1\n",
      "drawing\n"
     ]
    }
   ],
   "source": [
    "// Object Literal Syntax\n",
    "\n",
    "const circle = {\n",
    "    radius : 1,\n",
    "    location : {\n",
    "        x: 1,\n",
    "        y: 1\n",
    "    },\n",
    "\n",
    "    draw: function() {\n",
    "        console.log('drawing');\n",
    "    }\n",
    "}\n",
    "\n",
    "console.log(circle);\n",
    "console.log(circle.radius);\n",
    "circle.draw();"
   ]
  },
  {
   "cell_type": "markdown",
   "metadata": {},
   "source": [
    "# Factories \n",
    "\n",
    "If an object has one or more methods, we say that the object has `behavior`—just like a person. In JavaScript, both **constructor functions** and **factory functions** allow you to create such objects with behavior. This is especially useful when you need to create **multiple similar objects** that share the **same structure and behavior**."
   ]
  },
  {
   "cell_type": "code",
   "execution_count": 5,
   "metadata": {},
   "outputs": [
    {
     "name": "stdout",
     "output_type": "stream",
     "text": [
      "{ radius: 1, draw: [Function: draw] }\n",
      "1\n",
      "drawing\n"
     ]
    }
   ],
   "source": [
    "// Factory Function\n",
    "function createCircle(radius) {\n",
    "    return {\n",
    "        radius,\n",
    "        draw() {\n",
    "            console.log('drawing');\n",
    "        }\n",
    "    };\n",
    "}\n",
    "\n",
    "const circle1 = createCircle(1);\n",
    "console.log(circle1);\n",
    "console.log(circle1.radius);\n",
    "circle1.draw();"
   ]
  },
  {
   "cell_type": "markdown",
   "metadata": {},
   "source": [
    "# Constructors"
   ]
  },
  {
   "cell_type": "code",
   "execution_count": 4,
   "metadata": {},
   "outputs": [
    {
     "name": "stdout",
     "output_type": "stream",
     "text": [
      "Circle { radius: 1, draw: [Function (anonymous)] }\n",
      "1\n",
      "drawing\n"
     ]
    }
   ],
   "source": [
    "function Circle(radius) {\n",
    "    this.radius = radius;\n",
    "    this.draw = function() {\n",
    "        console.log('drawing');\n",
    "    };\n",
    "}\n",
    "\n",
    "const circle2 = new Circle(1);\n",
    "console.log(circle2);\n",
    "console.log(circle2.radius);\n",
    "circle2.draw();"
   ]
  },
  {
   "cell_type": "markdown",
   "metadata": {},
   "source": [
    "In this example, `this` refers to the object that is executing the code.\n",
    "\n",
    "When we use the `new` operator in JavaScript, several things happen behind the scenes:\n",
    "\n",
    "1. A **new empty object** is automatically created.\n",
    "\n",
    "2. The `this` keyword is set to reference that new object. (By default, `this` refers to the global object—`window object` in the browser or `global` in Node.js.)\n",
    "\n",
    "3. The function body runs, adding properties and methods to the new object.\n",
    "\n",
    "4. Finally, the object is **automatically returned** from the function.\n",
    "\n",
    "So, using `new` ensures that `this` refers to the newly created object instead of the global object. That’s why we use the `new` operator when calling constructor functions."
   ]
  },
  {
   "cell_type": "markdown",
   "metadata": {},
   "source": [
    "# Constructor Property\n",
    "\n",
    "In JavaScript, **every object** has a special property called constructor. This property references **the function that was used to create** that object."
   ]
  },
  {
   "cell_type": "code",
   "execution_count": 6,
   "metadata": {},
   "outputs": [
    {
     "name": "stdout",
     "output_type": "stream",
     "text": [
      "[Function: Object]\n",
      "[Function: Circle]\n"
     ]
    }
   ],
   "source": [
    "console.log(circle1.constructor)\n",
    "console.log(circle2.constructor);"
   ]
  },
  {
   "cell_type": "markdown",
   "metadata": {},
   "source": [
    "----------------------------\n",
    "\n",
    "When we create an object using **object literal syntax**, like this:\n",
    "\n",
    "```javascript\n",
    "let x = {};\n",
    "```\n",
    "\n",
    "Internally, the JavaScript engine uses the `Object` constructor function:\n",
    "\n",
    "```javascript\n",
    "let x = new Object();\n",
    "```\n",
    "\n",
    "So even though we use the shorthand `{}`, it's actually the same as using `new Object()` behind the scenes.\n",
    "\n",
    "For example, if we create an object using a **factory function**, and the function uses object literal syntax to return the object, then internally, that object is still created using the `Object` constructor.\n",
    "\n",
    "In JavaScript, there are several built-in constructor functions for creating different types of objects. For example:\n",
    "\n",
    "- String() creates string objects\n",
    "\n",
    "- Boolean() creates boolean objects\n",
    "\n",
    "- Number() creates number objects\n",
    "\n",
    "- Array(), Function(), and Date() are other examples\n",
    "\n",
    "These constructor functions allow you to create object wrappers around primitive types when needed.\n",
    "\n",
    "MY Note - \n",
    "\n",
    "| Function Type                    | Uses `Function` constructor internally for the function? | Returned object created by     |\n",
    "|----------------------------------|----------------------------------------------------------|--------------------------------|\n",
    "| Constructor function (circle2)  | ✅ Yes                                                   | The `new` keyword + `Circle`   |\n",
    "| Factory function (circle1) | ✅ Yes                                                   | Object literal `{}`            |"
   ]
  },
  {
   "cell_type": "markdown",
   "metadata": {},
   "source": [
    "# Functions are Objects"
   ]
  },
  {
   "cell_type": "code",
   "execution_count": null,
   "metadata": {},
   "outputs": [],
   "source": [
    "function print(){\n",
    "    console.log('print');\n",
    "}\n",
    "\n",
    "print.name();"
   ]
  },
  {
   "cell_type": "markdown",
   "metadata": {},
   "source": [
    "In JavaScript, **functions are also objects**. Normally, when we use the dot (`.`) operator with an object (`like objectName.property`), we can access its properties and methods.\n",
    "\n",
    "Similarly, since functions are objects too, we can use the dot operator with a function name (e.g., print.someProperty) to access the function's properties and methods. This confirms that functions in JavaScript behave like objects.\n",
    "\n"
   ]
  },
  {
   "cell_type": "code",
   "execution_count": 1,
   "metadata": {},
   "outputs": [
    {
     "name": "stdout",
     "output_type": "stream",
     "text": [
      "[Function: Circle]\n"
     ]
    }
   ],
   "source": [
    "function Circle(radius) {\n",
    "    this.radius = radius;\n",
    "    this.draw = function() {\n",
    "        console.log('drawing');\n",
    "    };\n",
    "}\n",
    "\n",
    "const circle_1 = new Circle(1);\n",
    "\n",
    "console.log(circle_1.constructor);"
   ]
  },
  {
   "cell_type": "markdown",
   "metadata": {},
   "source": [
    "When we use a *factory function* to create an object (like new `Circle(1)`), JavaScript internally uses the **Function constructor** to create that function. This is why, when we log `circle_1.constructor`, it refers back to the `Circle` function — because the object was created using that constructor.\n",
    "\n",
    "In short:\n",
    "**Functions used to create objects act as constructors, and JavaScript treats them as objects created using the built-in `Function` constructor.**\n",
    "\n",
    "We can also create the above object manually using the built in *Function constructor* in JavaScript."
   ]
  },
  {
   "cell_type": "code",
   "execution_count": 4,
   "metadata": {},
   "outputs": [
    {
     "name": "stdout",
     "output_type": "stream",
     "text": [
      "anonymous { radius: 1, draw: [Function (anonymous)] }\n",
      "[Function: anonymous]\n"
     ]
    }
   ],
   "source": [
    "const Circle2 = new Function('radius', `\n",
    "    this.radius = radius;\n",
    "    this.draw = function() {\n",
    "        console.log('drawing');\n",
    "    };\n",
    "`);\n",
    "\n",
    "const circle_1 = new Circle2(1);\n",
    "console.log(circle_1);\n",
    "console.log(circle_1.constructor); "
   ]
  },
  {
   "cell_type": "markdown",
   "metadata": {},
   "source": [
    "Extra - \n",
    "\n",
    "Both `call()` and `apply()` are used to invoke a function with a specific this value (i.e., the context), and optionally pass arguments."
   ]
  },
  {
   "cell_type": "markdown",
   "metadata": {},
   "source": [
    "# Value vs Reference Types\n",
    "\n",
    "Refer object note in *Fundamentals* Section"
   ]
  },
  {
   "cell_type": "markdown",
   "metadata": {},
   "source": [
    "# Adding or Removing Properties\n",
    "\n",
    "In JavaScript, objects are dynamic, which means you can add or remove properties even after the object is created."
   ]
  },
  {
   "cell_type": "code",
   "execution_count": 7,
   "metadata": {},
   "outputs": [
    {
     "name": "stdout",
     "output_type": "stream",
     "text": [
      "Circle {\n",
      "  radius: 1,\n",
      "  draw: [Function (anonymous)],\n",
      "  location: { x: 1, y: 1 }\n",
      "}\n",
      "----------------------------\n",
      "Circle { radius: 1, draw: [Function (anonymous)] }\n"
     ]
    }
   ],
   "source": [
    "function Circle(radius) {\n",
    "    this.radius = radius;\n",
    "    this.draw = function() {\n",
    "        console.log('drawing');\n",
    "    };\n",
    "}\n",
    "\n",
    "const circle3 = new Circle(1);\n",
    "\n",
    "// Adding properties to the object\n",
    "circle3.location = { x : 1, y: 1 };\n",
    "\n",
    "console.log(circle3);\n",
    "\n",
    "console.log(\"----------------------------\");\n",
    "\n",
    "// Deleting a property\n",
    "delete circle3.location; \n",
    "console.log(circle3);"
   ]
  },
  {
   "cell_type": "markdown",
   "metadata": {},
   "source": [
    "# Enumerating Properties"
   ]
  },
  {
   "cell_type": "code",
   "execution_count": 11,
   "metadata": {},
   "outputs": [
    {
     "name": "stdout",
     "output_type": "stream",
     "text": [
      "name  :  John\n",
      "age  :  30\n",
      "isEmployed  :  true\n",
      "run  :  [Function: run]\n",
      "----------------------------\n",
      "name  :  John\n",
      "age  :  30\n",
      "isEmployed  :  true\n"
     ]
    }
   ],
   "source": [
    "// Using for...in loop \n",
    "\n",
    "const person = {\n",
    "    name: 'John',\n",
    "    age: 30,\n",
    "    isEmployed: true,\n",
    "\n",
    "    run(){\n",
    "        console.log('running');\n",
    "    }\n",
    "};\n",
    "\n",
    "for (let key in person) {\n",
    "    console.log(key , \" : \", person[key]);\n",
    "}\n",
    "\n",
    "console.log(\"----------------------------\");\n",
    "\n",
    "// Filtering out methods from the object\n",
    "for (let key in person){\n",
    "    if (typeof person[key] !== 'function') {\n",
    "        console.log(key , \" : \", person[key]);\n",
    "    }\n",
    "}\n"
   ]
  },
  {
   "cell_type": "code",
   "execution_count": null,
   "metadata": {},
   "outputs": [
    {
     "name": "stdout",
     "output_type": "stream",
     "text": [
      "[ \"name\", \"age\", \"isEmployed\", \"run\" ]\n"
     ]
    }
   ],
   "source": [
    "// using Object.keys() to get an array of keys\n",
    "const person = {\n",
    "    name: 'John',\n",
    "    age: 30,\n",
    "    isEmployed: true,\n",
    "\n",
    "    run(){\n",
    "        console.log('running');\n",
    "    }\n",
    "};\n",
    "\n",
    "const keys = Object.keys(person);\n",
    "console.log(keys);"
   ]
  },
  {
   "cell_type": "code",
   "execution_count": null,
   "metadata": {},
   "outputs": [],
   "source": [
    "// Checking if a property exists in the object using 'in' operator\n",
    "const person = {\n",
    "    name: 'John',\n",
    "    age: 30,\n",
    "    isEmployed: true,\n",
    "\n",
    "    run(){\n",
    "        console.log('running');\n",
    "    }\n",
    "};\n",
    "\n",
    "if('name 'in person) {\n",
    "    console.log('Person has a name');\n",
    "}"
   ]
  },
  {
   "cell_type": "markdown",
   "metadata": {},
   "source": [
    "To know more details about Enumerating , refer the Object note in *Fundamental* Section"
   ]
  },
  {
   "cell_type": "markdown",
   "metadata": {},
   "source": [
    "# Abstractions Principle\n",
    "\n",
    "Abstraction means hide the complexity details and show only the essential details.\n",
    "\n",
    "Below code is not following the abstraction priciple.  because all the properties and methods (like computeOptimumLocation) are publicly accessible from outside the object."
   ]
  },
  {
   "cell_type": "code",
   "execution_count": 14,
   "metadata": {},
   "outputs": [],
   "source": [
    "function Circle(radius) {\n",
    "\n",
    "    this.radius = radius;\n",
    "\n",
    "    this.defaultLocation = { x: 0, y: 0 };\n",
    "\n",
    "    this.computeOptimumLocation = function() {\n",
    "        // some complex logic here\n",
    "        console.log('computing optimum location');\n",
    "    };\n",
    "\n",
    "    this.draw = function() {\n",
    "        console.log('drawing');\n",
    "        this.computeOptimumLocation();\n",
    "    };\n",
    "}\n",
    "\n",
    "const circle = new Circle(1);"
   ]
  },
  {
   "cell_type": "markdown",
   "metadata": {},
   "source": [
    "# Private Properties and Methods\n",
    "\n",
    "In JavaScript, we can implement abstraction by creating private members using **local variables**. If we declare a variable inside a function without using the `this` keyword, it becomes private and is not attached to the object. \n",
    "\n",
    "As a result, it cannot be accessed from outside the function. These private variables exist only within the function’s scope and are destroyed once the function finishes execution. This allows us to hide certain internal details and expose only what’s necessary, which is the main idea behind abstraction"
   ]
  },
  {
   "cell_type": "code",
   "execution_count": 17,
   "metadata": {},
   "outputs": [],
   "source": [
    "function Circle(radius) {\n",
    "\n",
    "    this.radius = radius;\n",
    "\n",
    "    let defaultLocation = { x: 0, y: 0 };\n",
    "\n",
    "    let computeOptimumLocation = function() {\n",
    "        // some complex logic here\n",
    "        console.log('computing optimum location');\n",
    "    };\n",
    "\n",
    "    this.draw = function() {\n",
    "        console.log('drawing');\n",
    "        computeOptimumLocation();\n",
    "    };\n",
    "}\n",
    "\n",
    "const circle = new Circle(1);"
   ]
  },
  {
   "cell_type": "markdown",
   "metadata": {},
   "source": [
    "The technique of creating private variables inside a function works in JavaScript because of the concept of **`closures`**."
   ]
  },
  {
   "cell_type": "code",
   "execution_count": 19,
   "metadata": {},
   "outputs": [],
   "source": [
    "function Circle(radius) {\n",
    "\n",
    "    this.radius = radius;\n",
    "\n",
    "    let defaultLocation = { z: 0, i: 0 };\n",
    "\n",
    "    let computeOptimumLocation = function() {\n",
    "        // some complex logic here\n",
    "    };\n",
    "\n",
    "    this.draw = function() {\n",
    "        let x,y\n",
    "\n",
    "        console.log('drawing');\n",
    "        computeOptimumLocation();\n",
    "    };\n",
    "}\n",
    "\n",
    "const circle = new Circle(1);"
   ]
  },
  {
   "cell_type": "markdown",
   "metadata": {},
   "source": [
    "If we declare variables like `x` and `y` inside the `draw` method, their scope is limited to that method. Once the `draw` function finishes executing, those variables go out of scope and are destroyed. However, closures behave differently. A **closure** determines what variables an inner function can access. In this case, the `draw` method (an inner function) can access not only its own local variables but also the variables declared in its parent function (`Circle`)—such as `defaultLocation` and `computeOptimumLocation`. These are within the **scope** of the parent function, but they are also captured in the **closure** of the inner function.\n",
    "\n",
    "It’s important not to confuse **scope** with **closure**. Scope is temporary—it exists only during the execution of a function. Each time the `draw` method is called, any variables declared inside it are re-created and then destroyed once the function ends. But closure is persistent. Even after the `draw` function finishes execution, the variables from the parent function that it references remain in memory. This allows the inner function to \"remember\" and preserve their state across calls, because they are part of its closure."
   ]
  },
  {
   "cell_type": "markdown",
   "metadata": {},
   "source": [
    "# Getters and Setters"
   ]
  },
  {
   "cell_type": "code",
   "execution_count": 20,
   "metadata": {},
   "outputs": [
    {
     "name": "stdout",
     "output_type": "stream",
     "text": [
      "{ x: 0, y: 0 }\n"
     ]
    }
   ],
   "source": [
    "function Circle(radius) {\n",
    "\n",
    "    this.radius = radius;\n",
    "\n",
    "    let defaultLocation = { x: 0, y: 0 };\n",
    "\n",
    "    Object.defineProperty(this, 'defaultLocation', {\n",
    "        get: function() {\n",
    "            return defaultLocation;\n",
    "        },\n",
    "        set: function(value) {\n",
    "            if (!value.x || !value.y) {\n",
    "                throw new Error('Invalid location.');\n",
    "            }\n",
    "            defaultLocation = value;\n",
    "        }\n",
    "    });\n",
    "\n",
    "\n",
    "}\n",
    "\n",
    "const circle = new Circle(1);\n",
    "console.log(circle.defaultLocation);"
   ]
  },
  {
   "cell_type": "markdown",
   "metadata": {},
   "source": [
    "Another way for declaring getters and setters also available in `Function` Note in `Fundamentals` Section"
   ]
  }
 ],
 "metadata": {
  "kernelspec": {
   "display_name": "Deno",
   "language": "typescript",
   "name": "deno"
  },
  "language_info": {
   "codemirror_mode": "typescript",
   "file_extension": ".ts",
   "mimetype": "text/x.typescript",
   "name": "typescript",
   "nbconvert_exporter": "script",
   "pygments_lexer": "typescript",
   "version": "5.8.3"
  }
 },
 "nbformat": 4,
 "nbformat_minor": 2
}
