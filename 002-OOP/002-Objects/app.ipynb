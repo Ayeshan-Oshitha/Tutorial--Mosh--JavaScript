{
 "cells": [
  {
   "cell_type": "markdown",
   "metadata": {},
   "source": [
    "# Introduction\n",
    "\n",
    "Refer `Objects` section in `Fundamentals` part for more details."
   ]
  },
  {
   "cell_type": "markdown",
   "metadata": {},
   "source": [
    "# Object Literals"
   ]
  },
  {
   "cell_type": "code",
   "execution_count": 2,
   "metadata": {},
   "outputs": [
    {
     "name": "stdout",
     "output_type": "stream",
     "text": [
      "{ radius: 1, location: { x: 1, y: 1 }, draw: [Function: draw] }\n",
      "1\n",
      "drawing\n"
     ]
    }
   ],
   "source": [
    "// Object Literal Syntax\n",
    "\n",
    "const circle = {\n",
    "    radius : 1,\n",
    "    location : {\n",
    "        x: 1,\n",
    "        y: 1\n",
    "    },\n",
    "\n",
    "    draw: function() {\n",
    "        console.log('drawing');\n",
    "    }\n",
    "}\n",
    "\n",
    "console.log(circle);\n",
    "console.log(circle.radius);\n",
    "circle.draw();"
   ]
  },
  {
   "cell_type": "markdown",
   "metadata": {},
   "source": [
    "# Factories \n",
    "\n",
    "If an object has one or more methods, we say that the object has `behavior`—just like a person. In JavaScript, both **constructor functions** and **factory functions** allow you to create such objects with behavior. This is especially useful when you need to create **multiple similar objects** that share the **same structure and behavior**."
   ]
  },
  {
   "cell_type": "code",
   "execution_count": 5,
   "metadata": {},
   "outputs": [
    {
     "name": "stdout",
     "output_type": "stream",
     "text": [
      "{ radius: 1, draw: [Function: draw] }\n",
      "1\n",
      "drawing\n"
     ]
    }
   ],
   "source": [
    "// Factory Function\n",
    "function createCircle(radius) {\n",
    "    return {\n",
    "        radius,\n",
    "        draw() {\n",
    "            console.log('drawing');\n",
    "        }\n",
    "    };\n",
    "}\n",
    "\n",
    "const circle1 = createCircle(1);\n",
    "console.log(circle1);\n",
    "console.log(circle1.radius);\n",
    "circle1.draw();"
   ]
  },
  {
   "cell_type": "markdown",
   "metadata": {},
   "source": [
    "# Constructions"
   ]
  },
  {
   "cell_type": "code",
   "execution_count": 4,
   "metadata": {},
   "outputs": [
    {
     "name": "stdout",
     "output_type": "stream",
     "text": [
      "Circle { radius: 1, draw: [Function (anonymous)] }\n",
      "1\n",
      "drawing\n"
     ]
    }
   ],
   "source": [
    "function Circle(radius) {\n",
    "    this.radius = radius;\n",
    "    this.draw = function() {\n",
    "        console.log('drawing');\n",
    "    };\n",
    "}\n",
    "\n",
    "const circle2 = new Circle(1);\n",
    "console.log(circle2);\n",
    "console.log(circle2.radius);\n",
    "circle2.draw();"
   ]
  },
  {
   "cell_type": "markdown",
   "metadata": {},
   "source": [
    "In this example, `this` refers to the object that is executing the code.\n",
    "\n",
    "When we use the `new` operator in JavaScript, several things happen behind the scenes:\n",
    "\n",
    "1. A **new empty object** is automatically created.\n",
    "\n",
    "2. The `this` keyword is set to reference that new object. (By default, `this` refers to the global object—`window object` in the browser or `global` in Node.js.)\n",
    "\n",
    "3. The function body runs, adding properties and methods to the new object.\n",
    "\n",
    "4. Finally, the object is **automatically returned** from the function.\n",
    "\n",
    "So, using `new` ensures that `this` refers to the newly created object instead of the global object. That’s why we use the `new` operator when calling constructor functions."
   ]
  },
  {
   "cell_type": "markdown",
   "metadata": {},
   "source": [
    "# Constructor Property\n",
    "\n",
    "In JavaScript, **every object** has a special property called constructor. This property references **the function that was used to create** that object."
   ]
  },
  {
   "cell_type": "code",
   "execution_count": 6,
   "metadata": {},
   "outputs": [
    {
     "name": "stdout",
     "output_type": "stream",
     "text": [
      "[Function: Object]\n",
      "[Function: Circle]\n"
     ]
    }
   ],
   "source": [
    "console.log(circle1.constructor)\n",
    "console.log(circle2.constructor);"
   ]
  },
  {
   "cell_type": "markdown",
   "metadata": {},
   "source": [
    "When we create an object using **object literal syntax**, like this:\n",
    "\n",
    "```javascript\n",
    "let x = {};\n",
    "```\n",
    "\n",
    "Internally, the JavaScript engine uses the `Object` constructor function:\n",
    "\n",
    "```javascript\n",
    "let x = new Object();\n",
    "```\n",
    "\n",
    "So even though we use the shorthand `{}`, it's actually the same as using `new Object()` behind the scenes.\n",
    "\n",
    "For example, if we create an object using a **factory function**, and the function uses object literal syntax to return the object, then internally, that object is still created using the `Object` constructor.\n",
    "\n",
    "In JavaScript, there are several built-in constructor functions for creating different types of objects. For example:\n",
    "\n",
    "- String() creates string objects\n",
    "\n",
    "- Boolean() creates boolean objects\n",
    "\n",
    "- Number() creates number objects\n",
    "\n",
    "- Array(), Function(), and Date() are other examples\n",
    "\n",
    "These constructor functions allow you to create object wrappers around primitive types when needed."
   ]
  }
 ],
 "metadata": {
  "kernelspec": {
   "display_name": "Deno",
   "language": "typescript",
   "name": "deno"
  },
  "language_info": {
   "codemirror_mode": "typescript",
   "file_extension": ".ts",
   "mimetype": "text/x.typescript",
   "name": "typescript",
   "nbconvert_exporter": "script",
   "pygments_lexer": "typescript",
   "version": "5.8.3"
  }
 },
 "nbformat": 4,
 "nbformat_minor": 2
}
