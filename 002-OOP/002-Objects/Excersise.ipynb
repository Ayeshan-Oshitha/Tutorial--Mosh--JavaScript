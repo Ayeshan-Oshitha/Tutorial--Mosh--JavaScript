{
 "cells": [
  {
   "cell_type": "markdown",
   "metadata": {},
   "source": [
    "### Excersise 001 - Stop Watch"
   ]
  },
  {
   "cell_type": "code",
   "execution_count": null,
   "metadata": {},
   "outputs": [
    {
     "data": {
      "text/plain": [
       "\u001b[33m6\u001b[39m"
      ]
     },
     "execution_count": 5,
     "metadata": {},
     "output_type": "execute_result"
    },
    {
     "name": "stdout",
     "output_type": "stream",
     "text": [
      "Duration: 6\n"
     ]
    }
   ],
   "source": [
    "// My Code\n",
    "\n",
    "function MyStopWatch(){\n",
    "\n",
    "    let duration = 0;\n",
    "    let running = false;\n",
    "    let timer = null;\n",
    "\n",
    "\n",
    "    this.start =  function(){\n",
    "        if (running){\n",
    "            throw new Error(\"Already Started\")\n",
    "        }\n",
    "        running = true;\n",
    "        timer = setInterval(() => {\n",
    "            duration++;\n",
    "        }, 1000)\n",
    "    };\n",
    "\n",
    "\n",
    "    this.stop = function(){\n",
    "        if(!running){\n",
    "            throw new Error(\"Already Stopped\")\n",
    "        }\n",
    "        running = false;\n",
    "        clearInterval(timer)\n",
    "    }\n",
    "\n",
    "\n",
    "    this.reset = function(){\n",
    "        clearInterval(timer)  \n",
    "        duration = 0;\n",
    "    }\n",
    "\n",
    "\n",
    "    Object.defineProperty(this, 'duration' , {\n",
    "        get: function(){\n",
    "            return duration;\n",
    "        }\n",
    "    })\n",
    "\n",
    "}\n",
    "\n",
    "\n",
    "const mysw = new MyStopWatch();\n",
    "\n",
    "mysw.start()\n",
    "\n",
    "setTimeout(() => {\n",
    "    mysw.stop();\n",
    "    console.log(\"Duration:\", mysw.duration); // Should show ~3 if you wait 3 seconds\n",
    "}, 7000);"
   ]
  },
  {
   "cell_type": "code",
   "execution_count": null,
   "metadata": {},
   "outputs": [],
   "source": [
    "// Mosh Code\n",
    "\n",
    "function MoshStopWatch() {\n",
    "\n",
    "    let startTime, endTime, running, duration = 0;\n",
    "\n",
    "    this.start = function() {\n",
    "        if(running){\n",
    "            throw new Error(\"Stopwatch has already started\");\n",
    "        }\n",
    "        running = true;\n",
    "        startTime = new Date();\n",
    "    }\n",
    "\n",
    "\n",
    "    this.stop = function() {\n",
    "        if(!running){\n",
    "            throw new Error(\"Stopwatch is not started \");\n",
    "        }\n",
    "        running = false;\n",
    "        endTime = new Date();\n",
    "\n",
    "        const seconds = (endTime.getTime() - startTime.getTime()) / 1000;\n",
    "        duration += seconds;\n",
    "    }\n",
    "\n",
    "\n",
    "    this.reset = function() {\n",
    "        startTime = null;\n",
    "        endTime = null;\n",
    "        running = false;\n",
    "        duration = 0;\n",
    "    }\n",
    "\n",
    "    \n",
    "    Object.defineProperty(this, 'duration', {\n",
    "        get: function(){\n",
    "            return duration;\n",
    "        }\n",
    "    })\n",
    "}"
   ]
  }
 ],
 "metadata": {
  "kernelspec": {
   "display_name": "Deno",
   "language": "typescript",
   "name": "deno"
  },
  "language_info": {
   "codemirror_mode": "typescript",
   "file_extension": ".ts",
   "mimetype": "text/x.typescript",
   "name": "typescript",
   "nbconvert_exporter": "script",
   "pygments_lexer": "typescript",
   "version": "5.8.3"
  }
 },
 "nbformat": 4,
 "nbformat_minor": 2
}
